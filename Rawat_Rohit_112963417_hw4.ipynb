{
  "nbformat": 4,
  "nbformat_minor": 0,
  "metadata": {
    "anaconda-cloud": {},
    "kernelspec": {
      "name": "python3",
      "display_name": "Python 3"
    },
    "language_info": {
      "codemirror_mode": {
        "name": "ipython",
        "version": 3
      },
      "file_extension": ".py",
      "mimetype": "text/x-python",
      "name": "python",
      "nbconvert_exporter": "python",
      "pygments_lexer": "ipython3",
      "version": "3.7.3"
    },
    "colab": {
      "name": "Rawat_Rohit_112963417_hw4.ipynb",
      "provenance": [],
      "collapsed_sections": []
    },
    "accelerator": "GPU"
  },
  "cells": [
    {
      "cell_type": "markdown",
      "metadata": {
        "id": "XSfnuObtYYMH",
        "colab_type": "text"
      },
      "source": [
        "# CSE527 Homework 4\n",
        "**Due date: 23:59 on Nov. 5, 2019 (Thuesday)**\n",
        "\n",
        "In this semester, we will use Google Colab for the assignments, which allows us to utilize resources that some of us might not have in their local machines such as GPUs. You will need to use your Stony Brook (*.stonybrook.edu) account for coding and Google Drive to save your results.\n",
        "\n",
        "## Google Colab Tutorial\n",
        "---\n",
        "Go to https://colab.research.google.com/notebooks/, you will see a tutorial named \"Welcome to Colaboratory\" file, where you can learn the basics of using google colab.\n",
        "\n",
        "Settings used for assignments: ***Edit -> Notebook Settings -> Runtime Type (Python 3)***.\n",
        "\n",
        "\n",
        "## Description\n",
        "---\n",
        "This project is an introduction to deep learning tools for computer vision. You will design and train deep convolutional networks for scene recognition using [PyTorch](http://pytorch.org). You can visualize the\n",
        "structure of the network with [mNeuron] (http://vision03.csail.mit.edu/cnn_art/index.html)\n",
        "\n",
        "Remember Homework 3: Scene recognition with bag of words. You worked hard to design a bag of features representations that achieved 60% to 70% accuracy (most likely) on 16-way scene classification. We're going to attack the same task with deep learning and get higher accuracy. Training from scratch won't work quite as well as homework 3 due to the insufficient amount of data, fine-tuning an existing network will work much better than homework 3.\n",
        "\n",
        "In Problem 1 of the project you will train a deep convolutional network from scratch to recognize scenes. The starter codes gives you methods to load data and display them. You will need to define a simple network architecture and add jittering, normalization, and regularization to increase recognition accuracy to 50, 60, or perhaps 70%. Unfortunately, we only have 2,400 training examples so it doesn't seem possible to train a network from scratch which outperforms hand-crafted features\n",
        "\n",
        "For Problem 2 you will instead fine-tune a pre-trained deep network to achieve about 85% accuracy on the task. We will use the pretrained AlexNet network which was not trained to recognize scenes at all. \n",
        "\n",
        "These two approaches represent the most common approaches to recognition problems in computer vision today -- train a deep network from scratch if you have enough data (it's not always obvious whether or not you do), and if you cannot then instead fine-tune a pre-trained network.\n",
        "\n",
        "There are 2 problems in this homework with a total of 110 points including 10 bonus points. Be sure to read **Submission Guidelines** below. They are important. For the problems requiring text descriptions, you might want to add a markdown block for that.\n",
        "\n",
        "## Dataset\n",
        "---\n",
        "Save the [dataset(click me)](https://drive.google.com/open?id=1NWC3TMsXSWN2TeoYMCjhf2N1b-WRDh-M) into your working folder in your Google Drive for this homework. <br>\n",
        "Under your root folder, there should be a folder named \"data\" (i.e. XXX/Surname_Givenname_SBUID/data) containing the images.\n",
        "**Do not upload** the data subfolder before submitting on blackboard due to size limit. There should be only one .ipynb file under your root folder Surname_Givenname_SBUID.\n",
        "\n",
        "## Some Tutorials (PyTorch)\n",
        "---\n",
        "- You will be using PyTorch for deep learning toolbox (follow the [link](http://pytorch.org) for installation).\n",
        "- For PyTorch beginners, please read this [tutorial](http://pytorch.org/tutorials/beginner/deep_learning_60min_blitz.html) before doing your homework.\n",
        "- Feel free to study more tutorials at http://pytorch.org/tutorials/.\n",
        "- Find cool visualization here at http://playground.tensorflow.org.\n",
        "\n",
        "\n",
        "## Starter Code\n",
        "---\n",
        "In the starter code, you are provided with a function that loads data into minibatches for training and testing in PyTorch."
      ]
    },
    {
      "cell_type": "code",
      "metadata": {
        "id": "0UA6WFgcYYMI",
        "colab_type": "code",
        "colab": {}
      },
      "source": [
        "# import packages here\n",
        "import cv2\n",
        "import numpy as np\n",
        "import matplotlib.pyplot as plt\n",
        "import glob\n",
        "import random \n",
        "import time\n",
        "from scipy import ndimage\n",
        "import gc \n",
        "\n",
        "import torch\n",
        "import torchvision\n",
        "import torchvision.transforms as transforms\n",
        "\n",
        "from torch.autograd import Variable\n",
        "import torch.nn as nn\n",
        "import torch.nn.functional as F\n",
        "\n",
        "from PIL import Image\n",
        "from skimage.transform import rotate"
      ],
      "execution_count": 0,
      "outputs": []
    },
    {
      "cell_type": "code",
      "metadata": {
        "id": "L7T72O-1ks-a",
        "colab_type": "code",
        "outputId": "3b33f307-471f-4466-c3eb-f6ed1a6363a6",
        "colab": {
          "base_uri": "https://localhost:8080/",
          "height": 33
        }
      },
      "source": [
        "# Mount your google drive where you've saved your assignment folder\n",
        "from google.colab import drive\n",
        "drive.mount('/content/gdrive')"
      ],
      "execution_count": 2,
      "outputs": [
        {
          "output_type": "stream",
          "text": [
            "Drive already mounted at /content/gdrive; to attempt to forcibly remount, call drive.mount(\"/content/gdrive\", force_remount=True).\n"
          ],
          "name": "stdout"
        }
      ]
    },
    {
      "cell_type": "code",
      "metadata": {
        "id": "xIT3WIuykrg0",
        "colab_type": "code",
        "outputId": "6b08264a-ef34-43e3-e78f-eeba59bd0728",
        "colab": {
          "base_uri": "https://localhost:8080/",
          "height": 33
        }
      },
      "source": [
        "# Set your working directory (in your google drive)\n",
        "# Note that 'gdrive/My Drive/Y2019Fall/CSE-527-Intro-To-Computer-Vision/hw4' is just an example, \n",
        "#   change it to your specific homework directory.\n",
        "cd '/content/gdrive/My Drive/CV/hw4/Rawat_Rohit_112963417_hw4/'"
      ],
      "execution_count": 3,
      "outputs": [
        {
          "output_type": "stream",
          "text": [
            "/content/gdrive/My Drive/CV/hw4/Rawat_Rohit_112963417_hw4\n"
          ],
          "name": "stdout"
        }
      ]
    },
    {
      "cell_type": "code",
      "metadata": {
        "id": "0NxnBcUqk_9B",
        "colab_type": "code",
        "outputId": "9e619a82-d39e-480f-f595-d666301c70d8",
        "colab": {
          "base_uri": "https://localhost:8080/",
          "height": 33
        }
      },
      "source": [
        "# ==========================================\n",
        "#    Load Training Data and Testing Data\n",
        "# ==========================================\n",
        "class_names = [name[13:] for name in glob.glob('./data/train/*')]\n",
        "class_names = dict(zip(range(len(class_names)), class_names))\n",
        "print(\"class_names: %s \" % class_names)\n",
        "n_train_samples = 150\n",
        "n_test_samples = 50\n",
        "\n",
        "\n",
        "def img_norm(img):\n",
        "  #\n",
        "  # Write your code here\n",
        "  #img = (img/255 - 0.5)*2  \n",
        "  img = ((255 - img)/255 - 0.5)   \n",
        "  # normalize img pixels to [-1, 1]\n",
        "  #\n",
        "  return img\n",
        "\n",
        "def load_dataset(path, img_size, num_per_class=-1, batch_num=1, shuffle=False, augment=False, is_color=False,\n",
        "                rotate_90=False, zero_centered=False):\n",
        "    \n",
        "    data = []\n",
        "    labels = []\n",
        "    \n",
        "    if is_color:\n",
        "        channel_num = 3\n",
        "    else:\n",
        "        channel_num = 1\n",
        "        \n",
        "    # read images and resizing\n",
        "    for id, class_name in class_names.items():\n",
        "        print(\"Loading images from class: %s\" % id)\n",
        "        img_path_class = glob.glob(path + class_name + '/*.jpg')\n",
        "        if num_per_class > 0:\n",
        "            img_path_class = img_path_class[:num_per_class]\n",
        "        labels.extend([id]*len(img_path_class))\n",
        "        for filename in img_path_class:\n",
        "            if is_color:\n",
        "                img = cv2.imread(filename)\n",
        "            else:\n",
        "                img = cv2.imread(filename, 0)\n",
        "            \n",
        "            # resize the image\n",
        "            img = cv2.resize(img, img_size, cv2.INTER_LINEAR)\n",
        "            \n",
        "            if is_color:\n",
        "                img = np.transpose(img, [2, 0, 1])\n",
        "            \n",
        "            # norm pixel values to [-1, 1]\n",
        "            data.append(img_norm(img))\n",
        "            \n",
        "    #\n",
        "    # Write your Data Augmentation code here\n",
        "    if augment:\n",
        "      '''\n",
        "      rotated_image = [ndimage.rotate(img,180,mode = 'mirror') for img in data]\n",
        "      #rotated_image = np.fliplr(img)\n",
        "      data.append(rotated_image)\n",
        "      gc.collect()\n",
        "      \n",
        "      '''\n",
        "      rotated_images = [np.fliplr(img) for img in data]\n",
        "      data.extend(rotated_images)\n",
        "      labels.extend(labels)\n",
        "     \n",
        "\n",
        "    \n",
        "    # mirroring\n",
        "    #\n",
        "            \n",
        "    #\n",
        "    # Write your Data Normalization code here\n",
        "    for img in data:\n",
        "      img = img - np.mean(img,axis = 0)\n",
        "    # norm data to zero-centered\n",
        "    #\n",
        "     \n",
        "    # randomly permute (this step is important for training)\n",
        "    if shuffle:\n",
        "        bundle = list(zip(data, labels))\n",
        "        random.shuffle(bundle)\n",
        "        data, labels = zip(*bundle)\n",
        "    \n",
        "    # divide data into minibatches of TorchTensors\n",
        "    if batch_num > 1:\n",
        "        batch_data = []\n",
        "        batch_labels = []\n",
        "        \n",
        "        print(len(data))\n",
        "        print(batch_num)\n",
        "        \n",
        "        for i in range(int(len(data) / batch_num)):\n",
        "            minibatch_d = data[i*batch_num: (i+1)*batch_num]\n",
        "            minibatch_d = np.reshape(minibatch_d, (batch_num, channel_num, img_size[0], img_size[1]))\n",
        "            batch_data.append(torch.from_numpy(minibatch_d))\n",
        "\n",
        "            minibatch_l = labels[i*batch_num: (i+1)*batch_num]\n",
        "            batch_labels.append(torch.LongTensor(minibatch_l))\n",
        "        data, labels = batch_data, batch_labels \n",
        "    \n",
        "    return zip(batch_data, batch_labels)"
      ],
      "execution_count": 4,
      "outputs": [
        {
          "output_type": "stream",
          "text": [
            "class_names: {0: 'Forest', 1: 'Industrial', 2: 'Flower', 3: 'Coast', 4: 'InsideCity', 5: 'Office', 6: 'Bedroom', 7: 'Highway', 8: 'Street', 9: 'TallBuilding', 10: 'LivingRoom', 11: 'Suburb', 12: 'OpenCountry', 13: 'Mountain', 14: 'Kitchen', 15: 'Store'} \n"
          ],
          "name": "stdout"
        }
      ]
    },
    {
      "cell_type": "code",
      "metadata": {
        "id": "wHI2VYbDloje",
        "colab_type": "code",
        "outputId": "949afe0f-017e-4d93-acda-3048ffa12061",
        "colab": {
          "base_uri": "https://localhost:8080/",
          "height": 655
        }
      },
      "source": [
        "# load data into size (64, 64)\n",
        "img_size = (64, 64)\n",
        "batch_num = 50 # training sample number per batch\n",
        "\n",
        "# load training dataset\n",
        "trainloader_small = list(load_dataset('./data/train/', img_size, batch_num=batch_num, shuffle=True, \n",
        "                                      augment=True, zero_centered=True))\n",
        "train_num = len(trainloader_small)\n",
        "print(\"Finish loading %d minibatches(=%d) of training samples.\" % (train_num, batch_num))\n",
        "\n",
        "# load testing dataset\n",
        "testloader_small = list(load_dataset('./data/test/', img_size, num_per_class=50, batch_num=batch_num))\n",
        "test_num = len(testloader_small)\n",
        "print(\"Finish loading %d minibatches(=%d) of testing samples.\" % (test_num, batch_num))"
      ],
      "execution_count": 5,
      "outputs": [
        {
          "output_type": "stream",
          "text": [
            "Loading images from class: 0\n",
            "Loading images from class: 1\n",
            "Loading images from class: 2\n",
            "Loading images from class: 3\n",
            "Loading images from class: 4\n",
            "Loading images from class: 5\n",
            "Loading images from class: 6\n",
            "Loading images from class: 7\n",
            "Loading images from class: 8\n",
            "Loading images from class: 9\n",
            "Loading images from class: 10\n",
            "Loading images from class: 11\n",
            "Loading images from class: 12\n",
            "Loading images from class: 13\n",
            "Loading images from class: 14\n",
            "Loading images from class: 15\n",
            "4800\n",
            "50\n",
            "Finish loading 96 minibatches(=50) of training samples.\n",
            "Loading images from class: 0\n",
            "Loading images from class: 1\n",
            "Loading images from class: 2\n",
            "Loading images from class: 3\n",
            "Loading images from class: 4\n",
            "Loading images from class: 5\n",
            "Loading images from class: 6\n",
            "Loading images from class: 7\n",
            "Loading images from class: 8\n",
            "Loading images from class: 9\n",
            "Loading images from class: 10\n",
            "Loading images from class: 11\n",
            "Loading images from class: 12\n",
            "Loading images from class: 13\n",
            "Loading images from class: 14\n",
            "Loading images from class: 15\n",
            "400\n",
            "50\n",
            "Finish loading 8 minibatches(=50) of testing samples.\n"
          ],
          "name": "stdout"
        }
      ]
    },
    {
      "cell_type": "code",
      "metadata": {
        "id": "krCXjDOzlq0f",
        "colab_type": "code",
        "colab": {
          "base_uri": "https://localhost:8080/",
          "height": 284
        },
        "outputId": "9cef0a91-0957-4ee6-8793-c80e642bae67"
      },
      "source": [
        "# show some images\n",
        "def imshow(img):\n",
        "    img = img / 2 + 0.5     # unnormalize\n",
        "    npimg = img.numpy()\n",
        "    if len(npimg.shape) > 2:\n",
        "        npimg = np.transpose(img, [1, 2, 0])\n",
        "    plt.figure\n",
        "    plt.imshow(npimg, 'gray')\n",
        "    plt.show()\n",
        "img, label = trainloader_small[0][0][11][0], trainloader_small[0][1][11]\n",
        "label = int(np.array(label))\n",
        "print(class_names[label])\n",
        "imshow(img)"
      ],
      "execution_count": 6,
      "outputs": [
        {
          "output_type": "stream",
          "text": [
            "InsideCity\n"
          ],
          "name": "stdout"
        },
        {
          "output_type": "display_data",
          "data": {
            "image/png": "[encoded data removed]",
            "text/plain": [
              "<Figure size 432x288 with 1 Axes>"
            ]
          },
          "metadata": {
            "tags": []
          }
        }
      ]
    },
    {
      "cell_type": "markdown",
      "metadata": {
        "id": "JGA-K6QzYYMR",
        "colab_type": "text"
      },
      "source": [
        "## Problem 1: Training a Network From Scratch\n",
        "{Part 1: 35 points} Gone are the days of hand designed features. Now we have end-to-end learning in which a highly non-linear representation is learned for our data to maximize our objective (in this case, 16-way classification accuracy). Instead of 70% accuracy we can now recognize scenes with... 25% accuracy. OK, that didn't work at all. Try to boost the accuracy by doing the following:\n",
        "\n",
        "**Data Augmentation**: We don't have enough training data, let's augment the training data.\n",
        "If you left-right flip (mirror) an image of a scene, it never changes categories. A kitchen doesn't become a forest when mirrored. This isn't true in all domains — a \"d\" becomes a \"b\" when mirrored, so you can't \"jitter\" digit recognition training data in the same way. But we can synthetically increase our amount of training data by left-right mirroring training images during the learning process.\n",
        "\n",
        "After you implement mirroring, you should notice that your training error doesn't drop as quickly. That's actually a good thing, because it means the network isn't overfitting to the 2,400 original training images as much (because it sees 4,800 training images now, although they're not as good as 4,800 truly independent samples). Because the training and test errors fall more slowly, you may need more training epochs or you may try modifying the learning rate. You should see a roughly 10% increase in accuracy by adding mirroring. You are **required** to implement mirroring as data augmentation for this part.\n",
        "\n",
        "You can try more elaborate forms of jittering -- zooming in a random amount, rotating a random amount, taking a random crop, etc. These are not required, you might want to try these in the bonus part.\n",
        "\n",
        "**Data Normalization**: The images aren't zero-centered. One simple trick which can help a lot is to subtract the mean from every image. It would arguably be more proper to only compute the mean from the training images (since the test/validation images should be strictly held out) but it won't make much of a difference. After doing this you should see another 15% or so increase in accuracy. This part is **required**.\n",
        "\n",
        "**Network Regularization**: Add dropout layer. If you train your network (especially for more than the default 30 epochs) you'll see that the training error can decrease to zero while the val top1 error hovers at 40% to 50%. The network has learned weights which can perfectly recognize the training data, but those weights don't generalize to held out test data. The best regularization would be more training data but we don't have that. Instead we will use dropout regularization.\n",
        "\n",
        "What does dropout regularization do? It randomly turns off network connections at training time to fight overfitting. This prevents a unit in one layer from relying too strongly on a single unit in the previous layer. Dropout regularization can be interpreted as simultaneously training many \"thinned\" versions of your network. At test, all connections are restored which is analogous to taking an average prediction over all of the \"thinned\" networks. You can see a more complete discussion of dropout regularization in this [paper](https://www.cs.toronto.edu/~hinton/absps/JMLRdropout.pdf).\n",
        "\n",
        "The dropout layer has only one free parameter — the dropout rate — the proportion of connections that are randomly deleted. The default of 0.5 should be fine. Insert a dropout layer between your convolutional layers. In particular, insert it directly before your last convolutional layer. Your test accuracy should increase by another 10%. Your train accuracy should decrease much more slowly. That's to be expected — you're making life much harder for the training algorithm by cutting out connections randomly. \n",
        "\n",
        "If you increase the number of training epochs (and maybe decrease the learning rate) you should be able to achieve around 50% test accuracy. In this part, you are **required** to add dropout layer to your network.\n",
        "\n",
        "Please give detailed descriptions of your network layout in the following format:<br>\n",
        "Data augmentation: [descriptions]<br>\n",
        "Data normalization: [descriptions]<br>\n",
        "Layer 1: [layer_type]: [Parameters]<br>\n",
        "Layer 2: [layer_type]: [Parameters]<br>\n",
        "...<br>\n",
        "Then report the final accuracy on test set and time consumed for training and testing separately.\n",
        "\n",
        "{Part 2: 15 points} Try **three techniques** taught in the class to increase the accuracy of your model. Such as increasing training data by randomly rotating training images, adding batch normalization, different activation functions (e.g., sigmoid) and model architecture modification. Note that too many layers can do you no good due to insufficient training data. Clearly describe your method and accuracy increase/decrease for each of the three techniques."
      ]
    },
    {
      "cell_type": "markdown",
      "metadata": {
        "id": "c-cIkJrrC3Lp",
        "colab_type": "text"
      },
      "source": [
        "**Part 1**"
      ]
    },
    {
      "cell_type": "code",
      "metadata": {
        "colab_type": "code",
        "outputId": "3a9b0bc6-1a13-42cf-9e24-d51908abc26e",
        "id": "9W2hC3slFx7g",
        "colab": {
          "base_uri": "https://localhost:8080/",
          "height": 151
        }
      },
      "source": [
        "# ==========================================\n",
        "#       Define Network Architecture\n",
        "# ==========================================\n",
        "\n",
        "class Net(nn.Module):\n",
        "    def __init__(self):\n",
        "        super(Net, self).__init__()\n",
        "        self.conv1 = torch.nn.Conv2d(1, 16, kernel_size=5, stride=1, padding=2)\n",
        "        self.pool = torch.nn.MaxPool2d(kernel_size=2, stride=2, padding=0)\n",
        "        self.conv2 = torch.nn.Conv2d(16, 64, 5, 1, 2)\n",
        "        \n",
        "        self.fc1 = torch.nn.Linear(64 *  16 * 16, 500)\n",
        "        self.fc2 = torch.nn.Linear(500, 16)\n",
        "        self.dropout = nn.Dropout2d(0.5)\n",
        "\n",
        "    def forward(self, x):\n",
        "        x = x.float()\n",
        "        x = self.conv1(x)\n",
        "        x = self.pool(x)\n",
        "        x = self.conv2(x)\n",
        "        x = self.pool(x)\n",
        "        x = self.dropout(x)         # For Network Regularization\n",
        "        x = x.view(-1, 64 * 16 * 16)\n",
        "        x = self.fc1(x)\n",
        "        x = self.fc2(x)\n",
        "\n",
        "        return x\n",
        "\n",
        "\n",
        "net = Net()\n",
        "net.cuda()"
      ],
      "execution_count": 7,
      "outputs": [
        {
          "output_type": "execute_result",
          "data": {
            "text/plain": [
              "Net(\n",
              "  (conv1): Conv2d(1, 16, kernel_size=(5, 5), stride=(1, 1), padding=(2, 2))\n",
              "  (pool): MaxPool2d(kernel_size=2, stride=2, padding=0, dilation=1, ceil_mode=False)\n",
              "  (conv2): Conv2d(16, 64, kernel_size=(5, 5), stride=(1, 1), padding=(2, 2))\n",
              "  (fc1): Linear(in_features=16384, out_features=500, bias=True)\n",
              "  (fc2): Linear(in_features=500, out_features=16, bias=True)\n",
              "  (dropout): Dropout2d(p=0.5, inplace=False)\n",
              ")"
            ]
          },
          "metadata": {
            "tags": []
          },
          "execution_count": 7
        }
      ]
    },
    {
      "cell_type": "code",
      "metadata": {
        "colab_type": "code",
        "outputId": "14abb396-1bd5-4ef7-d4af-5327d941d266",
        "id": "qMf5u1CpFx7e",
        "colab": {
          "base_uri": "https://localhost:8080/",
          "height": 705
        }
      },
      "source": [
        "# ==========================================\n",
        "#         Optimize/Train Network\n",
        "# ==========================================\n",
        "import torch.optim as optim\n",
        "\n",
        "criterion = nn.CrossEntropyLoss()\n",
        "optimizer = optim.SGD(net.parameters(), lr=0.001, momentum=0.9)\n",
        "total = 0\n",
        "correct = 0\n",
        "\n",
        "for epoch in range(20):  # loop over the dataset multiple times\n",
        "\n",
        "    running_loss = 0.0\n",
        "    for i, data in enumerate(trainloader_small, 0):\n",
        "        # get the inputs; data is a list of [inputs, labels]\n",
        "        inputs, labels = data\n",
        "        inputs = inputs.cuda()\n",
        "        labels = labels.cuda()\n",
        "        # zero the parameter gradients\n",
        "        optimizer.zero_grad()\n",
        "\n",
        "        # forward + backward + optimize\n",
        "        outputs = net(inputs)\n",
        "        \n",
        "        loss = criterion(outputs, labels)\n",
        "        loss.backward()\n",
        "        optimizer.step()\n",
        "        _, predicted = torch.max(outputs.data, 1)\n",
        "        total += labels.size(0)\n",
        "        correct += (predicted == labels).sum().item()\n",
        "\n",
        "        # print statistics\n",
        "        running_loss += loss.item()\n",
        "        if i % 96 == 50:    # print every 96 mini-batches\n",
        "            print('[%d, %5d] loss: %.3f' %(epoch + 1, i + 1, running_loss / 96))\n",
        "            running_loss = 0.0\n",
        "            print(correct/total * 100)\n",
        "print('Finished Training')"
      ],
      "execution_count": 8,
      "outputs": [
        {
          "output_type": "stream",
          "text": [
            "[1,    51] loss: 1.459\n",
            "11.372549019607844\n",
            "[2,    51] loss: 1.346\n",
            "17.401360544217688\n",
            "[3,    51] loss: 1.281\n",
            "20.650205761316872\n",
            "[4,    51] loss: 1.232\n",
            "23.079646017699115\n",
            "[5,    51] loss: 1.172\n",
            "24.979310344827585\n",
            "[6,    51] loss: 1.118\n",
            "26.768361581920903\n",
            "[7,    51] loss: 1.077\n",
            "28.3030303030303\n",
            "[8,    51] loss: 1.038\n",
            "29.737206085753805\n",
            "[9,    51] loss: 1.008\n",
            "31.008547008547012\n",
            "[10,    51] loss: 0.986\n",
            "32.16174863387978\n",
            "[11,    51] loss: 0.960\n",
            "33.20870425321464\n",
            "[12,    51] loss: 0.930\n",
            "34.252935862691956\n",
            "[13,    51] loss: 0.909\n",
            "35.18703241895262\n",
            "[14,    51] loss: 0.882\n",
            "36.10315627405697\n",
            "[15,    51] loss: 0.856\n",
            "37.00645161290323\n",
            "[16,    51] loss: 0.834\n",
            "37.899396378269614\n",
            "[17,    51] loss: 0.799\n",
            "38.80907372400756\n",
            "[18,    51] loss: 0.770\n",
            "39.695781342840164\n",
            "[19,    51] loss: 0.757\n",
            "40.56998313659359\n",
            "[20,    51] loss: 0.716\n",
            "41.4368\n",
            "Finished Training\n"
          ],
          "name": "stdout"
        }
      ]
    },
    {
      "cell_type": "code",
      "metadata": {
        "colab_type": "code",
        "outputId": "dd4e8938-c316-4328-bb9f-cf24ace16a15",
        "id": "5sARC_aJFx7b",
        "colab": {
          "base_uri": "https://localhost:8080/",
          "height": 33
        }
      },
      "source": [
        "# ==========================================\n",
        "#            Evaluating Network\n",
        "# ==========================================\n",
        "accuracy = []\n",
        "correct = 0\n",
        "total = 0\n",
        "net.eval()  #Setting Evaluating Mode\n",
        "with torch.no_grad():\n",
        "    for data in testloader_small:\n",
        "        images, labels = data\n",
        "        images = images.cuda()\n",
        "        labels = labels.cuda()\n",
        "        outputs = net(images)\n",
        "        _, predicted = torch.max(outputs.data, 1)\n",
        "        total += labels.size(0)\n",
        "        correct += (predicted == labels).sum().item()\n",
        "accuracy.append(100 * correct / total);\n",
        "print('Accuracy of the network on the 400 test images: %d %%' % (100 * correct / total))\n"
      ],
      "execution_count": 9,
      "outputs": [
        {
          "output_type": "stream",
          "text": [
            "Accuracy of the network on the 400 test images: 46 %\n"
          ],
          "name": "stdout"
        }
      ]
    },
    {
      "cell_type": "code",
      "metadata": {
        "id": "3LJaGoljCGqy",
        "colab_type": "code",
        "colab": {}
      },
      "source": [
        "np.random.seed(0)"
      ],
      "execution_count": 0,
      "outputs": []
    },
    {
      "cell_type": "markdown",
      "metadata": {
        "id": "ApIOBLTLTdJn",
        "colab_type": "text"
      },
      "source": [
        "**Data Augmentation:** flipping each image and adding into the dataset which increased the dataset size from 2400 images to 4800 images.\n",
        "**Data Normalizatiom:** Subtracted the mean of a image from each of its pixels to make it zero centered.\n",
        "\n",
        "**Basic Netwrok:** Various Layers are listed below with used parameters.\n",
        "\n",
        "Net(\n",
        "\n",
        "  (conv1): Conv2d(1, 16, kernel_size=(5, 5), stride=(1, 1), padding=(2, 2)) - Convolution Layer 1\n",
        "  \n",
        "  (pool): MaxPool2d(kernel_size=2, stride=2, padding=0, dilation=1,ceil_mode=False) - Pooling Layer 1\n",
        "\n",
        "  (conv2): Conv2d(16, 64, kernel_size=(5, 5), stride=(1, 1), padding=(2, 2))- Convolution Layer 2 \n",
        "\n",
        "  (pool): MaxPool2d(kernel_size=2, stride=2, padding=0, dilation=1,ceil_mode=False) - Pooling Layer 2\n",
        "\n",
        " (dropout): Dropout2d(p=0.5, inplace=False)\n",
        "\n",
        "  (fc1): Linear(in_features=16384, out_features=500, bias=True)\n",
        "\n",
        "  (fc2): Linear(in_features=500, out_features=16, bias=True)\n",
        "\n",
        " \n",
        ")"
      ]
    },
    {
      "cell_type": "markdown",
      "metadata": {
        "id": "AJsHl3_mCmqK",
        "colab_type": "text"
      },
      "source": [
        "**Part 2**"
      ]
    },
    {
      "cell_type": "markdown",
      "metadata": {
        "id": "KG3q75PWF65T",
        "colab_type": "text"
      },
      "source": [
        "Including Technique 1: Randomly Rotating images"
      ]
    },
    {
      "cell_type": "code",
      "metadata": {
        "colab_type": "code",
        "outputId": "42278709-cea1-47ab-eaa6-85529c87325b",
        "id": "Yyz7JKcAFx7S",
        "colab": {
          "base_uri": "https://localhost:8080/",
          "height": 151
        }
      },
      "source": [
        "# ==========================================\n",
        "#       Define Network Architecture\n",
        "# ==========================================\n",
        "\n",
        "class Net1(nn.Module):\n",
        "    def __init__(self):\n",
        "        super(Net1, self).__init__()\n",
        "        self.conv1 = torch.nn.Conv2d(1, 16, kernel_size=5, stride=1, padding=2)\n",
        "        self.pool = torch.nn.MaxPool2d(kernel_size=2, stride=2, padding=0)\n",
        "        self.conv2 = torch.nn.Conv2d(16, 64, 5, 1, 2)\n",
        "        \n",
        "        self.fc1 = torch.nn.Linear(64 *  16 * 16, 500)\n",
        "        self.fc2 = torch.nn.Linear(500, 16)\n",
        "        self.dropout = nn.Dropout2d(0.5)\n",
        "\n",
        "    def forward(self, x):\n",
        "        x = x.float()\n",
        "        x = self.conv1(x)\n",
        "        x = self.pool(x)\n",
        "        x = self.conv2(x)\n",
        "        #x= torch.tanh(x)\n",
        "        x = self.pool(x)\n",
        "        x = self.dropout(x)\n",
        "        x = x.view(-1, 64 * 16 * 16)\n",
        "        #x = self.batch(x)\n",
        "        x = self.fc1(x)\n",
        "        x = self.fc2(x)\n",
        "\n",
        "        return x\n",
        "\n",
        "\n",
        "net1 = Net1()\n",
        "net1.cuda()"
      ],
      "execution_count": 11,
      "outputs": [
        {
          "output_type": "execute_result",
          "data": {
            "text/plain": [
              "Net1(\n",
              "  (conv1): Conv2d(1, 16, kernel_size=(5, 5), stride=(1, 1), padding=(2, 2))\n",
              "  (pool): MaxPool2d(kernel_size=2, stride=2, padding=0, dilation=1, ceil_mode=False)\n",
              "  (conv2): Conv2d(16, 64, kernel_size=(5, 5), stride=(1, 1), padding=(2, 2))\n",
              "  (fc1): Linear(in_features=16384, out_features=500, bias=True)\n",
              "  (fc2): Linear(in_features=500, out_features=16, bias=True)\n",
              "  (dropout): Dropout2d(p=0.5, inplace=False)\n",
              ")"
            ]
          },
          "metadata": {
            "tags": []
          },
          "execution_count": 11
        }
      ]
    },
    {
      "cell_type": "code",
      "metadata": {
        "colab_type": "code",
        "id": "0uZr4O9dFx7J",
        "colab": {
          "base_uri": "https://localhost:8080/",
          "height": 705
        },
        "outputId": "15d47b98-6606-497d-8669-bf1b18eb0889"
      },
      "source": [
        "# ==========================================\n",
        "#         Optimize/Train Network\n",
        "# ==========================================\n",
        "import torch.optim as optim\n",
        "\n",
        "criterion1 = nn.CrossEntropyLoss()\n",
        "optimizer1 = optim.SGD(net1.parameters(), lr=0.001, momentum=0.9)\n",
        "total = 0\n",
        "correct = 0\n",
        "for epoch in range(20):  # loop over the dataset multiple times\n",
        "\n",
        "    running_loss = 0.0\n",
        "    for i, data in enumerate(trainloader_small, 0):\n",
        "        # get the inputs; data is a list of [inputs, labels]\n",
        "        inputs, labels = data\n",
        "\n",
        "        ## Rotating images randomly####\n",
        "        for img in inputs:\n",
        "          rotated= torchvision.transforms.RandomRotation(90)  #random rotation between -90 to 90 degrees\n",
        "          #img =rotate(img,60)\n",
        "          img =rotated\n",
        "        ###############################\n",
        "\n",
        "        inputs = inputs.cuda()\n",
        "        labels = labels.cuda()\n",
        "        # zero the parameter gradients\n",
        "        optimizer1.zero_grad()\n",
        "\n",
        "        # forward + backward + optimize\n",
        "        outputs = net1(inputs)\n",
        "        \n",
        "        loss = criterion1(outputs, labels)\n",
        "        loss.backward()\n",
        "        optimizer1.step()\n",
        "        _, predicted = torch.max(outputs.data, 1)\n",
        "        total += labels.size(0)\n",
        "        correct += (predicted == labels).sum().item()\n",
        "\n",
        "        # print statistics\n",
        "        running_loss += loss.item()\n",
        "        if i % 96 == 50:    # print every 96 mini-batches\n",
        "            print('[%d, %5d] loss: %.3f' %(epoch + 1, i + 1, running_loss / 96))\n",
        "            running_loss = 0.0\n",
        "            print('Accuracy=',correct/total * 100)\n",
        "print('Finished Training')\n"
      ],
      "execution_count": 12,
      "outputs": [
        {
          "output_type": "stream",
          "text": [
            "[1,    51] loss: 1.465\n",
            "Accuracy= 9.372549019607842\n",
            "[2,    51] loss: 1.381\n",
            "Accuracy= 16.272108843537413\n",
            "[3,    51] loss: 1.299\n",
            "Accuracy= 19.76954732510288\n",
            "[4,    51] loss: 1.244\n",
            "Accuracy= 22.377581120943955\n",
            "[5,    51] loss: 1.188\n",
            "Accuracy= 24.344827586206897\n",
            "[6,    51] loss: 1.121\n",
            "Accuracy= 26.06779661016949\n",
            "[7,    51] loss: 1.070\n",
            "Accuracy= 27.728867623604465\n",
            "[8,    51] loss: 1.034\n",
            "Accuracy= 29.27247579529737\n",
            "[9,    51] loss: 1.009\n",
            "Accuracy= 30.561660561660563\n",
            "[10,    51] loss: 0.984\n",
            "Accuracy= 31.713661202185794\n",
            "[11,    51] loss: 0.957\n",
            "Accuracy= 32.753709198813056\n",
            "[12,    51] loss: 0.940\n",
            "Accuracy= 33.82836495031617\n",
            "[13,    51] loss: 0.920\n",
            "Accuracy= 34.786367414796345\n",
            "[14,    51] loss: 0.892\n",
            "Accuracy= 35.664357197844495\n",
            "[15,    51] loss: 0.870\n",
            "Accuracy= 36.494623655913976\n",
            "[16,    51] loss: 0.846\n",
            "Accuracy= 37.33065057008719\n",
            "[17,    51] loss: 0.823\n",
            "Accuracy= 38.16383112791431\n",
            "[18,    51] loss: 0.800\n",
            "Accuracy= 39.01485442661913\n",
            "[19,    51] loss: 0.779\n",
            "Accuracy= 39.82349634626195\n",
            "[20,    51] loss: 0.744\n",
            "Accuracy= 40.64533333333333\n",
            "Finished Training\n"
          ],
          "name": "stdout"
        }
      ]
    },
    {
      "cell_type": "code",
      "metadata": {
        "id": "yaiyet0z_hek",
        "colab_type": "code",
        "colab": {
          "base_uri": "https://localhost:8080/",
          "height": 33
        },
        "outputId": "3f3c47a4-95cc-452d-f090-59f7c4347f5c"
      },
      "source": [
        "# ==========================================\n",
        "#            Evaluating Network\n",
        "# ==========================================\n",
        "correct = 0\n",
        "total = 0\n",
        "net1.eval()  #Setting Evaluating Mode\n",
        "with torch.no_grad():\n",
        "    for data in testloader_small:\n",
        "        images, labels = data\n",
        "        images = images.cuda()\n",
        "        labels = labels.cuda()\n",
        "        outputs = net1(images)\n",
        "        _, predicted = torch.max(outputs.data, 1)\n",
        "        total += labels.size(0)\n",
        "        correct += (predicted == labels).sum().item()\n",
        "accuracy.append(100 * correct / total)\n",
        "print('Accuracy of the network on the 400 test images: %d %%' % (100 * correct / total))"
      ],
      "execution_count": 13,
      "outputs": [
        {
          "output_type": "stream",
          "text": [
            "Accuracy of the network on the 400 test images: 47 %\n"
          ],
          "name": "stdout"
        }
      ]
    },
    {
      "cell_type": "markdown",
      "metadata": {
        "id": "r695gLSAUyrh",
        "colab_type": "text"
      },
      "source": [
        "Including Technique 2 : Batch Normalization layer"
      ]
    },
    {
      "cell_type": "code",
      "metadata": {
        "colab_type": "code",
        "outputId": "11dc4380-5658-4542-c7e9-98f5a76b5649",
        "id": "kAcufJfvU5Hz",
        "colab": {
          "base_uri": "https://localhost:8080/",
          "height": 168
        }
      },
      "source": [
        "# ==========================================\n",
        "#       Define Network Architecture\n",
        "# ==========================================\n",
        "\n",
        "class Net2(nn.Module):\n",
        "    def __init__(self):\n",
        "        super(Net2, self).__init__()\n",
        "        self.conv1 = torch.nn.Conv2d(1, 16, kernel_size=5, stride=1, padding=2)\n",
        "        self.pool = torch.nn.MaxPool2d(kernel_size=2, stride=2, padding=0)\n",
        "        self.conv2 = torch.nn.Conv2d(16, 64, 5, 1, 2)\n",
        "        \n",
        "        self.fc1 = torch.nn.Linear(64 *  16 * 16, 500)\n",
        "        self.fc2 = torch.nn.Linear(500, 16)\n",
        "        self.dropout = nn.Dropout2d(0.5)\n",
        "        self.batch = nn.BatchNorm1d(64 * 16 * 16)\n",
        "\n",
        "    def forward(self, x):\n",
        "        x = x.float()\n",
        "        x = self.conv1(x)\n",
        "        x = self.pool(x)\n",
        "        x = self.conv2(x)\n",
        "        x = self.pool(x)\n",
        "        x = self.dropout(x)\n",
        "        x = x.view(-1, 64 * 16 * 16)\n",
        "        x = self.batch(x)\n",
        "        x = self.fc1(x)\n",
        "        x = self.fc2(x)\n",
        "\n",
        "        return x\n",
        "\n",
        "\n",
        "net2 = Net2()\n",
        "net2.cuda()"
      ],
      "execution_count": 14,
      "outputs": [
        {
          "output_type": "execute_result",
          "data": {
            "text/plain": [
              "Net2(\n",
              "  (conv1): Conv2d(1, 16, kernel_size=(5, 5), stride=(1, 1), padding=(2, 2))\n",
              "  (pool): MaxPool2d(kernel_size=2, stride=2, padding=0, dilation=1, ceil_mode=False)\n",
              "  (conv2): Conv2d(16, 64, kernel_size=(5, 5), stride=(1, 1), padding=(2, 2))\n",
              "  (fc1): Linear(in_features=16384, out_features=500, bias=True)\n",
              "  (fc2): Linear(in_features=500, out_features=16, bias=True)\n",
              "  (dropout): Dropout2d(p=0.5, inplace=False)\n",
              "  (batch): BatchNorm1d(16384, eps=1e-05, momentum=0.1, affine=True, track_running_stats=True)\n",
              ")"
            ]
          },
          "metadata": {
            "tags": []
          },
          "execution_count": 14
        }
      ]
    },
    {
      "cell_type": "code",
      "metadata": {
        "colab_type": "code",
        "outputId": "c973b9e8-a0e4-470e-df89-e5dc6d4c7b46",
        "id": "lSLnMa9WU5H4",
        "colab": {
          "base_uri": "https://localhost:8080/",
          "height": 705
        }
      },
      "source": [
        "# ==========================================\n",
        "#         Optimize/Train Network\n",
        "# ==========================================\n",
        "import torch.optim as optim\n",
        "from random import randrange\n",
        "\n",
        "criterion2 = nn.CrossEntropyLoss()\n",
        "optimizer2 = optim.SGD(net2.parameters(), lr=0.001, momentum=0.9)\n",
        "total = 0\n",
        "correct = 0\n",
        "for epoch in range(20):  # loop over the dataset multiple times\n",
        "\n",
        "    running_loss = 0.0\n",
        "    for i, data in enumerate(trainloader_small, 0):\n",
        "        # get the inputs; data is a list of [inputs, labels]\n",
        "        inputs, labels = data\n",
        "\n",
        "        ## Rotating images randomly####\n",
        "        for img in inputs:\n",
        "          rotated= torchvision.transforms.RandomRotation(90)\n",
        "          img =rotated\n",
        "\n",
        "        ###############################\n",
        "\n",
        "        inputs = inputs.cuda()\n",
        "        labels = labels.cuda()\n",
        "        # zero the parameter gradients\n",
        "        optimizer2.zero_grad()\n",
        "\n",
        "        # forward + backward + optimize\n",
        "        outputs = net2(inputs)\n",
        "        \n",
        "        loss = criterion2(outputs, labels)\n",
        "        loss.backward()\n",
        "        optimizer2.step()\n",
        "        _, predicted = torch.max(outputs.data, 1)\n",
        "        total += labels.size(0)\n",
        "        correct += (predicted == labels).sum().item()\n",
        "\n",
        "        # print statistics\n",
        "        running_loss += loss.item()\n",
        "        if i % 96 == 50:    # print every 96 mini-batches\n",
        "            print('[%d, %5d] loss: %.3f' %(epoch + 1, i + 1, running_loss / 96))\n",
        "            running_loss = 0.0\n",
        "            print('Accuracy=',correct/total * 100)\n",
        "print('Finished Training')\n"
      ],
      "execution_count": 15,
      "outputs": [
        {
          "output_type": "stream",
          "text": [
            "[1,    51] loss: 1.301\n",
            "Accuracy= 22.509803921568626\n",
            "[2,    51] loss: 1.014\n",
            "Accuracy= 32.59863945578231\n",
            "[3,    51] loss: 0.847\n",
            "Accuracy= 38.724279835390945\n",
            "[4,    51] loss: 0.698\n",
            "Accuracy= 44.22418879056047\n",
            "[5,    51] loss: 0.579\n",
            "Accuracy= 48.79080459770115\n",
            "[6,    51] loss: 0.486\n",
            "Accuracy= 52.896421845574395\n",
            "[7,    51] loss: 0.408\n",
            "Accuracy= 56.484848484848484\n",
            "[8,    51] loss: 0.354\n",
            "Accuracy= 59.8146611341632\n",
            "[9,    51] loss: 0.316\n",
            "Accuracy= 62.581196581196586\n",
            "[10,    51] loss: 0.255\n",
            "Accuracy= 65.16284153005465\n",
            "[11,    51] loss: 0.208\n",
            "Accuracy= 67.50939663699307\n",
            "[12,    51] loss: 0.188\n",
            "Accuracy= 69.59530261969287\n",
            "[13,    51] loss: 0.156\n",
            "Accuracy= 71.47464671654198\n",
            "[14,    51] loss: 0.128\n",
            "Accuracy= 73.18860662047729\n",
            "[15,    51] loss: 0.117\n",
            "Accuracy= 74.72401433691756\n",
            "[16,    51] loss: 0.121\n",
            "Accuracy= 76.02280348759221\n",
            "[17,    51] loss: 0.097\n",
            "Accuracy= 77.23377441713926\n",
            "[18,    51] loss: 0.087\n",
            "Accuracy= 78.32323232323233\n",
            "[19,    51] loss: 0.075\n",
            "Accuracy= 79.33558178752108\n",
            "[20,    51] loss: 0.062\n",
            "Accuracy= 80.30186666666667\n",
            "Finished Training\n"
          ],
          "name": "stdout"
        }
      ]
    },
    {
      "cell_type": "code",
      "metadata": {
        "colab_type": "code",
        "outputId": "bcd07436-a0ec-4faa-c192-5650b5ff8702",
        "id": "RLiTNGECU5H7",
        "colab": {
          "base_uri": "https://localhost:8080/",
          "height": 33
        }
      },
      "source": [
        "# ==========================================\n",
        "#            Evaluating Network\n",
        "# ==========================================\n",
        "correct = 0\n",
        "total = 0\n",
        "net2.eval()  #Setting Evaluating Mode\n",
        "with torch.no_grad():\n",
        "    for data in testloader_small:\n",
        "        images, labels = data\n",
        "        images = images.cuda()\n",
        "        labels = labels.cuda()\n",
        "        outputs = net2(images)\n",
        "        _, predicted = torch.max(outputs.data, 1)\n",
        "        total += labels.size(0)\n",
        "        correct += (predicted == labels).sum().item()\n",
        "accuracy.append(100 * correct / total);\n",
        "print('Accuracy of the network on the 400 test images: %d %%' % (100 * correct / total))\n"
      ],
      "execution_count": 16,
      "outputs": [
        {
          "output_type": "stream",
          "text": [
            "Accuracy of the network on the 400 test images: 59 %\n"
          ],
          "name": "stdout"
        }
      ]
    },
    {
      "cell_type": "markdown",
      "metadata": {
        "id": "1c3n6GriFRdK",
        "colab_type": "text"
      },
      "source": [
        "Including Technique 3: Relu activation functions"
      ]
    },
    {
      "cell_type": "code",
      "metadata": {
        "id": "clXaGdwaoIL7",
        "colab_type": "code",
        "colab": {
          "base_uri": "https://localhost:8080/",
          "height": 168
        },
        "outputId": "8fa66ea2-b514-4520-a4ad-1ad3d093e855"
      },
      "source": [
        "# ==========================================\n",
        "#       Define Network Architecture\n",
        "# ==========================================\n",
        "\n",
        "class Net3(nn.Module):\n",
        "    def __init__(self):\n",
        "        super(Net3, self).__init__()\n",
        "\n",
        "        self.conv1 = torch.nn.Conv2d(1, 16, kernel_size=5, stride=1, padding=2)\n",
        "        self.pool = torch.nn.MaxPool2d(kernel_size=2, stride=2, padding=0)\n",
        "        self.conv2 = torch.nn.Conv2d(16, 64, 5, 1, 2)\n",
        "        \n",
        "        self.fc1 = torch.nn.Linear(64 *  16 * 16, 500)\n",
        "        \n",
        "        self.fc2 = torch.nn.Linear(500, 16)\n",
        "        self.dropout = nn.Dropout2d(0.5)\n",
        "        self.batch = nn.BatchNorm1d(64 * 16 * 16)\n",
        "\n",
        "    def forward(self, x):\n",
        "        x = x.float()\n",
        "        x = F.relu(self.conv1(x))\n",
        "        x = self.pool(x)\n",
        "        x = F.relu(self.conv2(x))\n",
        "        x = self.pool(x)\n",
        "        x = self.dropout(x)\n",
        "        x = x.view(-1, 64 * 16 * 16)\n",
        "        x = self.batch(x)\n",
        "        x = self.fc1(x)\n",
        "        x = self.fc2(x)\n",
        "\n",
        "        return x\n",
        "\n",
        "\n",
        "net3 = Net3()\n",
        "net3.cuda()"
      ],
      "execution_count": 17,
      "outputs": [
        {
          "output_type": "execute_result",
          "data": {
            "text/plain": [
              "Net3(\n",
              "  (conv1): Conv2d(1, 16, kernel_size=(5, 5), stride=(1, 1), padding=(2, 2))\n",
              "  (pool): MaxPool2d(kernel_size=2, stride=2, padding=0, dilation=1, ceil_mode=False)\n",
              "  (conv2): Conv2d(16, 64, kernel_size=(5, 5), stride=(1, 1), padding=(2, 2))\n",
              "  (fc1): Linear(in_features=16384, out_features=500, bias=True)\n",
              "  (fc2): Linear(in_features=500, out_features=16, bias=True)\n",
              "  (dropout): Dropout2d(p=0.5, inplace=False)\n",
              "  (batch): BatchNorm1d(16384, eps=1e-05, momentum=0.1, affine=True, track_running_stats=True)\n",
              ")"
            ]
          },
          "metadata": {
            "tags": []
          },
          "execution_count": 17
        }
      ]
    },
    {
      "cell_type": "code",
      "metadata": {
        "id": "sNJTDG8xoJwH",
        "colab_type": "code",
        "colab": {
          "base_uri": "https://localhost:8080/",
          "height": 1000
        },
        "outputId": "99129256-b236-4baa-c109-a7663e7b9b1a"
      },
      "source": [
        "# ==========================================\n",
        "#         Optimize/Train Network\n",
        "# ==========================================\n",
        "import torch.optim as optim\n",
        "\n",
        "criterion3 = nn.CrossEntropyLoss()\n",
        "optimizer3 = optim.SGD(net3.parameters(), lr=0.001, momentum=0.9)\n",
        "total = 0\n",
        "correct = 0\n",
        "for epoch in range(20):  # loop over the dataset multiple times\n",
        "\n",
        "    running_loss = 0.0\n",
        "    for i, data in enumerate(trainloader_small, 0):\n",
        "        # get the inputs; data is a list of [inputs, labels]\n",
        "        inputs, labels = data\n",
        "\n",
        "        ## Rotating images randomly####\n",
        "        for img in inputs:\n",
        "          rotated= torchvision.transforms.RandomRotation(90)\n",
        "          img =rotated\n",
        "        ###############################\n",
        "\n",
        "        inputs = inputs.cuda()\n",
        "        labels = labels.cuda()\n",
        "        # zero the parameter gradients\n",
        "        optimizer3.zero_grad()\n",
        "\n",
        "        # forward + backward + optimize\n",
        "        outputs = net3(inputs)\n",
        "        \n",
        "        loss = criterion3(outputs, labels)\n",
        "        loss.backward()\n",
        "        optimizer3.step()\n",
        "        _, predicted = torch.max(outputs.data, 1)\n",
        "        total += labels.size(0)\n",
        "        correct += (predicted == labels).sum().item()\n",
        "\n",
        "        # print statistics\n",
        "        running_loss += loss.item()\n",
        "        if i % 96 == 50:    # print every 96 mini-batches\n",
        "            print('[%d, %5d] loss: %.3f' %(epoch + 1, i + 1, running_loss / 96))\n",
        "            running_loss = 0.0\n",
        "            print(correct/total * 100)\n",
        "            print('Accuracy=',correct/total * 100)\n",
        "\n",
        "print('Finished Training')\n"
      ],
      "execution_count": 18,
      "outputs": [
        {
          "output_type": "stream",
          "text": [
            "[1,    51] loss: 1.336\n",
            "19.92156862745098\n",
            "Accuracy= 19.92156862745098\n",
            "[2,    51] loss: 1.009\n",
            "30.993197278911566\n",
            "Accuracy= 30.993197278911566\n",
            "[3,    51] loss: 0.810\n",
            "38.38683127572016\n",
            "Accuracy= 38.38683127572016\n",
            "[4,    51] loss: 0.673\n",
            "44.18289085545723\n",
            "Accuracy= 44.18289085545723\n",
            "[5,    51] loss: 0.572\n",
            "49.09885057471264\n",
            "Accuracy= 49.09885057471264\n",
            "[6,    51] loss: 0.475\n",
            "53.29566854990584\n",
            "Accuracy= 53.29566854990584\n",
            "[7,    51] loss: 0.400\n",
            "57.068580542264755\n",
            "Accuracy= 57.068580542264755\n",
            "[8,    51] loss: 0.336\n",
            "60.428769017980635\n",
            "Accuracy= 60.428769017980635\n",
            "[9,    51] loss: 0.273\n",
            "63.38949938949939\n",
            "Accuracy= 63.38949938949939\n",
            "[10,    51] loss: 0.248\n",
            "65.99562841530054\n",
            "Accuracy= 65.99562841530054\n",
            "[11,    51] loss: 0.210\n",
            "68.23738872403561\n",
            "Accuracy= 68.23738872403561\n",
            "[12,    51] loss: 0.172\n",
            "70.35230352303523\n",
            "Accuracy= 70.35230352303523\n",
            "[13,    51] loss: 0.153\n",
            "72.17290108063176\n",
            "Accuracy= 72.17290108063176\n",
            "[14,    51] loss: 0.134\n",
            "73.83833718244803\n",
            "Accuracy= 73.83833718244803\n",
            "[15,    51] loss: 0.120\n",
            "75.2989247311828\n",
            "Accuracy= 75.2989247311828\n",
            "[16,    51] loss: 0.106\n",
            "76.64788732394366\n",
            "Accuracy= 76.64788732394366\n",
            "[17,    51] loss: 0.100\n",
            "77.82986767485822\n",
            "Accuracy= 77.82986767485822\n",
            "[18,    51] loss: 0.082\n",
            "78.94830659536541\n",
            "Accuracy= 78.94830659536541\n",
            "[19,    51] loss: 0.074\n",
            "79.95053400786959\n",
            "Accuracy= 79.95053400786959\n",
            "[20,    51] loss: 0.068\n",
            "80.85546666666666\n",
            "Accuracy= 80.85546666666666\n",
            "Finished Training\n"
          ],
          "name": "stdout"
        }
      ]
    },
    {
      "cell_type": "code",
      "metadata": {
        "id": "m5sadf8qoOW6",
        "colab_type": "code",
        "colab": {
          "base_uri": "https://localhost:8080/",
          "height": 33
        },
        "outputId": "c62007ba-16c4-4196-f120-5f9ec282cba3"
      },
      "source": [
        "# ==========================================\n",
        "#            Evaluating Network\n",
        "# ==========================================\n",
        "correct = 0\n",
        "total = 0\n",
        "net3.eval()  #Setting Evaluating Mode\n",
        "with torch.no_grad():\n",
        "    for data in testloader_small:\n",
        "        images, labels = data\n",
        "        images = images.cuda()\n",
        "        labels = labels.cuda()\n",
        "        outputs = net3(images)\n",
        "        _, predicted = torch.max(outputs.data, 1)\n",
        "        total += labels.size(0)\n",
        "        correct += (predicted == labels).sum().item()\n",
        "        \n",
        "accuracy.append(100 * correct / total);\n",
        "print('Accuracy of the network on the 400 test images: %d %%' % (100 * correct / total))\n"
      ],
      "execution_count": 19,
      "outputs": [
        {
          "output_type": "stream",
          "text": [
            "Accuracy of the network on the 400 test images: 62 %\n"
          ],
          "name": "stdout"
        }
      ]
    },
    {
      "cell_type": "code",
      "metadata": {
        "id": "lMs2f4WWPMSh",
        "colab_type": "code",
        "colab": {
          "base_uri": "https://localhost:8080/",
          "height": 265
        },
        "outputId": "9177fad9-5fbd-4532-85bd-5ea03b8a5fbe"
      },
      "source": [
        "from matplotlib import pyplot as plt\n",
        "import seaborn as sns\n",
        "\n",
        "X = ['Basic Model','Random Rotation','Batch Norm','Relu Activation']\n",
        "plt.bar(X,accuracy)\n",
        "plt.show()"
      ],
      "execution_count": 20,
      "outputs": [
        {
          "output_type": "display_data",
          "data": {
            "image/png": "[encoded data removed]",
            "text/plain": [
              "<Figure size 432x288 with 1 Axes>"
            ]
          },
          "metadata": {
            "tags": []
          }
        }
      ]
    },
    {
      "cell_type": "code",
      "metadata": {
        "id": "EGNwteiER7fj",
        "colab_type": "code",
        "colab": {
          "base_uri": "https://localhost:8080/",
          "height": 50
        },
        "outputId": "135c43f2-87c3-4c97-a7ea-d093ea870ec3"
      },
      "source": [
        "print('Models:',X)\n",
        "print('Accuracies:',accuracy)"
      ],
      "execution_count": 21,
      "outputs": [
        {
          "output_type": "stream",
          "text": [
            "Models: ['Basic Model', 'Random Rotation', 'Batch Norm', 'Relu Activation']\n",
            "Accuracies: [46.0, 47.25, 59.0, 62.5]\n"
          ],
          "name": "stdout"
        }
      ]
    },
    {
      "cell_type": "markdown",
      "metadata": {
        "id": "_qyNMpQDVInd",
        "colab_type": "text"
      },
      "source": [
        "In First Technique: **Randomly Rotated** the images from -90 to 90 degrees,which increased the accuracy on test dataset by almost 1%.\n",
        "\n",
        "In second Technique: **Batch Normalization** layer is included, which increased the accuracy on test dataset by almost 10.5%.\n",
        "\n",
        "In third Technique: **Relu Activation Fuction** layers are included, which increased the accuracy on test dataset by almost 4.25%."
      ]
    },
    {
      "cell_type": "markdown",
      "metadata": {
        "collapsed": true,
        "id": "nBHKIxzAYYM2",
        "colab_type": "text"
      },
      "source": [
        "## Problem 2: Fine Tuning a Pre-Trained Deep Network\n",
        "{Part 1: 30 points} Our convolutional network to this point isn't \"deep\". Fortunately, the representations learned by deep convolutional networks is that they generalize surprisingly well to other recognition tasks. \n",
        "\n",
        "But how do we use an existing deep network for a new recognition task? Take for instance,  [AlexNet](http://papers.nips.cc/paper/4824-imagenet-classification-with-deep-convolutional-neural-networks) network has 1000 units in the final layer corresponding to 1000 ImageNet categories.\n",
        "\n",
        "**Strategy A**: One could use those 1000 activations as a feature in place of a hand crafted feature such as a bag-of-features representation. You would train a classifier (typically a linear SVM) in that 1000 dimensional feature space. However, those activations are clearly very object specific and may not generalize well to new recognition tasks. It is generally better to use the activations in slightly earlier layers of the network, e.g. the 4096 activations in the last 2nd fully-connected layer. You can often get away with sub-sampling those 4096 activations considerably, e.g. taking only the first 200 activations. \n",
        "\n",
        "**Strategy B**: *Fine-tune* an existing network. In this scenario you take an existing network, replace the final layer (or more) with random weights, and train the entire network again with images and ground truth labels for your recognition task. You are effectively treating the pre-trained deep network as a better initialization than the random weights used when training from scratch. When you don't have enough training data to train a complex network from scratch (e.g. with the 16 classes) this is an attractive option. Fine-tuning can work far better than Strategy A of taking the activations directly from an pre-trained CNN. For example, in [this paper](http://www.cc.gatech.edu/~hays/papers/deep_geo.pdf) from CVPR 2015, there wasn't enough data to train a deep network from scratch, but fine tuning led to 4 times higher accuracy than using off-the-shelf networks directly.\n",
        "\n",
        "You are required to implement **Strategy B** to fine-tune a pre-trained **AlexNet** for this scene classification task. You should be able to achieve performance of 85% approximately. It takes roughly 35~40 minutes to train 20 epoches with AlexNet.\n",
        "\n",
        "Please provide detailed descriptions of:<br>\n",
        "(1) which layers of AlexNet have been replaced<br>\n",
        "(2) the architecture of the new layers added including activation methods (same as problem 1)<br>\n",
        "(3) the final accuracy on test set along with time consumption for both training and testing <br>\n",
        "\n",
        "{Part 2: 20 points} Implement Strategy A where you use the activations of the pre-trained network as features to train one-vs-all SVMs for your scene classification task. Report the final accuracy on test set along with time consumption for both training and testing.\n",
        "\n",
        "{Bonus: 10 points} Bonus will be given to those who fine-tune the [VGG network](https://pytorch.org/docs/stable/_modules/torchvision/models/vgg.html) [paper](https://arxiv.org/pdf/1409.1556.pdf) and compare performance with AlexNet. Explain why VGG performed better or worse.\n",
        "\n",
        "**Hints**:\n",
        "- Many pre-trained models are available in PyTorch at [here](http://pytorch.org/docs/master/torchvision/models.html).\n",
        "- For fine-tuning pretrained network using PyTorch, please read this [tutorial](http://pytorch.org/tutorials/beginner/transfer_learning_tutorial.html)."
      ]
    },
    {
      "cell_type": "code",
      "metadata": {
        "id": "VLG3WtEmYYM3",
        "colab_type": "code",
        "colab": {
          "base_uri": "https://localhost:8080/",
          "height": 655
        },
        "outputId": "87f87563-9a77-4d69-a142-34b225373d6a"
      },
      "source": [
        "# reload data with a larger size\n",
        "img_size = (224, 224)\n",
        "batch_num = 50 # training sample number per batch \n",
        "\n",
        "# load training dataset\n",
        "trainloader_large = list(load_dataset('./data/train/', img_size, batch_num=batch_num, shuffle=True, \n",
        "                                      augment=False, is_color=True, zero_centered=True))\n",
        "train_num = len(trainloader_large)\n",
        "print(\"Finish loading %d minibatches(=%d) of training samples.\" % (train_num, batch_num))\n",
        "\n",
        "# load testing dataset\n",
        "testloader_large = list(load_dataset('./data/test/', img_size, num_per_class=50, batch_num=batch_num, is_color=True))\n",
        "test_num = len(testloader_large)\n",
        "print(\"Finish loading %d minibatches(=%d) of testing samples.\" % (test_num, batch_num))"
      ],
      "execution_count": 22,
      "outputs": [
        {
          "output_type": "stream",
          "text": [
            "Loading images from class: 0\n",
            "Loading images from class: 1\n",
            "Loading images from class: 2\n",
            "Loading images from class: 3\n",
            "Loading images from class: 4\n",
            "Loading images from class: 5\n",
            "Loading images from class: 6\n",
            "Loading images from class: 7\n",
            "Loading images from class: 8\n",
            "Loading images from class: 9\n",
            "Loading images from class: 10\n",
            "Loading images from class: 11\n",
            "Loading images from class: 12\n",
            "Loading images from class: 13\n",
            "Loading images from class: 14\n",
            "Loading images from class: 15\n",
            "2400\n",
            "50\n",
            "Finish loading 48 minibatches(=50) of training samples.\n",
            "Loading images from class: 0\n",
            "Loading images from class: 1\n",
            "Loading images from class: 2\n",
            "Loading images from class: 3\n",
            "Loading images from class: 4\n",
            "Loading images from class: 5\n",
            "Loading images from class: 6\n",
            "Loading images from class: 7\n",
            "Loading images from class: 8\n",
            "Loading images from class: 9\n",
            "Loading images from class: 10\n",
            "Loading images from class: 11\n",
            "Loading images from class: 12\n",
            "Loading images from class: 13\n",
            "Loading images from class: 14\n",
            "Loading images from class: 15\n",
            "400\n",
            "50\n",
            "Finish loading 8 minibatches(=50) of testing samples.\n"
          ],
          "name": "stdout"
        }
      ]
    },
    {
      "cell_type": "markdown",
      "metadata": {
        "id": "MCBVVGDqZx8G",
        "colab_type": "text"
      },
      "source": [
        "# **Strategy B**"
      ]
    },
    {
      "cell_type": "code",
      "metadata": {
        "id": "btOal_ampEnm",
        "colab_type": "code",
        "colab": {}
      },
      "source": [
        "# ==========================================\n",
        "#       Fine-Tune Pretrained Network\n",
        "# ==========================================\n",
        "alexnet = torchvision.models.alexnet(pretrained = True)\n"
      ],
      "execution_count": 0,
      "outputs": []
    },
    {
      "cell_type": "code",
      "metadata": {
        "id": "PdYKUA9uGv4J",
        "colab_type": "code",
        "colab": {
          "base_uri": "https://localhost:8080/",
          "height": 470
        },
        "outputId": "87065fbf-11b0-42f6-a76c-f29d58fe819d"
      },
      "source": [
        "alexnet\n",
        "#alexnet.cuda()"
      ],
      "execution_count": 24,
      "outputs": [
        {
          "output_type": "execute_result",
          "data": {
            "text/plain": [
              "AlexNet(\n",
              "  (features): Sequential(\n",
              "    (0): Conv2d(3, 64, kernel_size=(11, 11), stride=(4, 4), padding=(2, 2))\n",
              "    (1): ReLU(inplace=True)\n",
              "    (2): MaxPool2d(kernel_size=3, stride=2, padding=0, dilation=1, ceil_mode=False)\n",
              "    (3): Conv2d(64, 192, kernel_size=(5, 5), stride=(1, 1), padding=(2, 2))\n",
              "    (4): ReLU(inplace=True)\n",
              "    (5): MaxPool2d(kernel_size=3, stride=2, padding=0, dilation=1, ceil_mode=False)\n",
              "    (6): Conv2d(192, 384, kernel_size=(3, 3), stride=(1, 1), padding=(1, 1))\n",
              "    (7): ReLU(inplace=True)\n",
              "    (8): Conv2d(384, 256, kernel_size=(3, 3), stride=(1, 1), padding=(1, 1))\n",
              "    (9): ReLU(inplace=True)\n",
              "    (10): Conv2d(256, 256, kernel_size=(3, 3), stride=(1, 1), padding=(1, 1))\n",
              "    (11): ReLU(inplace=True)\n",
              "    (12): MaxPool2d(kernel_size=3, stride=2, padding=0, dilation=1, ceil_mode=False)\n",
              "  )\n",
              "  (avgpool): AdaptiveAvgPool2d(output_size=(6, 6))\n",
              "  (classifier): Sequential(\n",
              "    (0): Dropout(p=0.5, inplace=False)\n",
              "    (1): Linear(in_features=9216, out_features=4096, bias=True)\n",
              "    (2): ReLU(inplace=True)\n",
              "    (3): Dropout(p=0.5, inplace=False)\n",
              "    (4): Linear(in_features=4096, out_features=4096, bias=True)\n",
              "    (5): ReLU(inplace=True)\n",
              "    (6): Linear(in_features=4096, out_features=1000, bias=True)\n",
              "  )\n",
              ")"
            ]
          },
          "metadata": {
            "tags": []
          },
          "execution_count": 24
        }
      ]
    },
    {
      "cell_type": "markdown",
      "metadata": {
        "id": "qaL6aKobWm3b",
        "colab_type": "text"
      },
      "source": [
        "**Replacing Last Layer and Adding a layer of Batch Normalization!**"
      ]
    },
    {
      "cell_type": "code",
      "metadata": {
        "id": "9TiuYDSSL5Jx",
        "colab_type": "code",
        "colab": {
          "base_uri": "https://localhost:8080/",
          "height": 487
        },
        "outputId": "288be313-4b24-435a-bec6-00a9a4d8c53a"
      },
      "source": [
        "alexnet.classifier._modules['6'] = nn.BatchNorm1d(64 * 8 * 8)\n",
        "alexnet.classifier._modules['7'] = nn.Linear(4096, 16)\n",
        "alexnet.cuda()"
      ],
      "execution_count": 25,
      "outputs": [
        {
          "output_type": "execute_result",
          "data": {
            "text/plain": [
              "AlexNet(\n",
              "  (features): Sequential(\n",
              "    (0): Conv2d(3, 64, kernel_size=(11, 11), stride=(4, 4), padding=(2, 2))\n",
              "    (1): ReLU(inplace=True)\n",
              "    (2): MaxPool2d(kernel_size=3, stride=2, padding=0, dilation=1, ceil_mode=False)\n",
              "    (3): Conv2d(64, 192, kernel_size=(5, 5), stride=(1, 1), padding=(2, 2))\n",
              "    (4): ReLU(inplace=True)\n",
              "    (5): MaxPool2d(kernel_size=3, stride=2, padding=0, dilation=1, ceil_mode=False)\n",
              "    (6): Conv2d(192, 384, kernel_size=(3, 3), stride=(1, 1), padding=(1, 1))\n",
              "    (7): ReLU(inplace=True)\n",
              "    (8): Conv2d(384, 256, kernel_size=(3, 3), stride=(1, 1), padding=(1, 1))\n",
              "    (9): ReLU(inplace=True)\n",
              "    (10): Conv2d(256, 256, kernel_size=(3, 3), stride=(1, 1), padding=(1, 1))\n",
              "    (11): ReLU(inplace=True)\n",
              "    (12): MaxPool2d(kernel_size=3, stride=2, padding=0, dilation=1, ceil_mode=False)\n",
              "  )\n",
              "  (avgpool): AdaptiveAvgPool2d(output_size=(6, 6))\n",
              "  (classifier): Sequential(\n",
              "    (0): Dropout(p=0.5, inplace=False)\n",
              "    (1): Linear(in_features=9216, out_features=4096, bias=True)\n",
              "    (2): ReLU(inplace=True)\n",
              "    (3): Dropout(p=0.5, inplace=False)\n",
              "    (4): Linear(in_features=4096, out_features=4096, bias=True)\n",
              "    (5): ReLU(inplace=True)\n",
              "    (6): BatchNorm1d(4096, eps=1e-05, momentum=0.1, affine=True, track_running_stats=True)\n",
              "    (7): Linear(in_features=4096, out_features=16, bias=True)\n",
              "  )\n",
              ")"
            ]
          },
          "metadata": {
            "tags": []
          },
          "execution_count": 25
        }
      ]
    },
    {
      "cell_type": "code",
      "metadata": {
        "id": "mtx0w6vjG42_",
        "colab_type": "code",
        "colab": {
          "base_uri": "https://localhost:8080/",
          "height": 386
        },
        "outputId": "9fbfcaea-0dda-4dbe-84bd-b4fe22c56d64"
      },
      "source": [
        "#alexnet.linear = nn.Linear(1000, 16)\n",
        "#alexnet.cuda()\n",
        "import torch.optim as optim\n",
        "import time\n",
        "\n",
        "criterion4 = nn.CrossEntropyLoss()\n",
        "optimizer4 = optim.SGD(alexnet.parameters(), lr=0.001, momentum=0.9)\n",
        "\n",
        "correct = 0\n",
        "total = 0\n",
        "start_time = time.time()\n",
        "\n",
        "for epoch in range(20):  # loop over the dataset multiple times\n",
        "\n",
        "    running_loss = 0.0\n",
        "    for i, data in enumerate(trainloader_large, 0):\n",
        "        # get the inputs; data is a list of [inputs, labels]\n",
        "        inputs, labels = data\n",
        "        inputs = inputs.cuda()\n",
        "        labels = labels.cuda()\n",
        "        # zero the parameter gradients\n",
        "        optimizer4.zero_grad()\n",
        "        inputs = inputs.float()\n",
        "        # forward + backward + optimize\n",
        "        outputs = alexnet(inputs)\n",
        "        \n",
        "        loss = criterion4(outputs, labels)\n",
        "        loss.backward()\n",
        "        optimizer4.step()\n",
        "        #step+=1\n",
        "        _, predicted = torch.max(outputs.data, 1)\n",
        "        total += labels.size(0)\n",
        "        correct += (predicted == labels).sum().item()\n",
        "\n",
        "        # print statistics\n",
        "        running_loss += loss.item()\n",
        "        if i % 48 == 0:    # print every 48 mini-batches\n",
        "            print('[%d, %5d] loss: %.3f' %\n",
        "                  (epoch + 1, i + 50, running_loss / 48))\n",
        "            running_loss = 0.0\n",
        "            #print('Accuracy: ',correct/total * 100)\n",
        "print('Finished Training')\n",
        "print(\" Time Consumption in Training: %s seconds \" % (time.time() - start_time))\n"
      ],
      "execution_count": 26,
      "outputs": [
        {
          "output_type": "stream",
          "text": [
            "[1,    50] loss: 0.061\n",
            "[2,    50] loss: 0.013\n",
            "[3,    50] loss: 0.008\n",
            "[4,    50] loss: 0.006\n",
            "[5,    50] loss: 0.006\n",
            "[6,    50] loss: 0.004\n",
            "[7,    50] loss: 0.007\n",
            "[8,    50] loss: 0.003\n",
            "[9,    50] loss: 0.003\n",
            "[10,    50] loss: 0.002\n",
            "[11,    50] loss: 0.002\n",
            "[12,    50] loss: 0.002\n",
            "[13,    50] loss: 0.001\n",
            "[14,    50] loss: 0.002\n",
            "[15,    50] loss: 0.001\n",
            "[16,    50] loss: 0.001\n",
            "[17,    50] loss: 0.001\n",
            "[18,    50] loss: 0.001\n",
            "[19,    50] loss: 0.001\n",
            "[20,    50] loss: 0.000\n",
            "Finished Training\n",
            " Time Consumption in Training: 40.02646589279175 seconds \n"
          ],
          "name": "stdout"
        }
      ]
    },
    {
      "cell_type": "code",
      "metadata": {
        "id": "0DpPCafjKK5H",
        "colab_type": "code",
        "colab": {
          "base_uri": "https://localhost:8080/",
          "height": 50
        },
        "outputId": "1a01eaae-b31d-47bd-ac06-7e5634214238"
      },
      "source": [
        "# ==========================================\n",
        "#            Evaluating Network\n",
        "# ==========================================\n",
        "start_time = time.time()\n",
        "\n",
        "correct = 0\n",
        "total = 0\n",
        "alexnet.eval()  #Setting Evaluating Mode\n",
        "with torch.no_grad():\n",
        "    for data in testloader_large:\n",
        "        images, labels = data\n",
        "        images = images.cuda()\n",
        "        labels = labels.cuda()\n",
        "        images = images.float()\n",
        "        outputs = alexnet(images)\n",
        "        _, predicted = torch.max(outputs.data, 1)\n",
        "        total += labels.size(0)\n",
        "        correct += (predicted == labels).sum().item()\n",
        "\n",
        "print('Accuracy of the network on the 400 test images: %d %%' % (100 * correct / total))\n",
        "print(\" Time Consumption in Testing: %s seconds \" % (time.time() - start_time))\n"
      ],
      "execution_count": 27,
      "outputs": [
        {
          "output_type": "stream",
          "text": [
            "Accuracy of the network on the 400 test images: 84 %\n",
            " Time Consumption in Testing: 0.18262863159179688 seconds \n"
          ],
          "name": "stdout"
        }
      ]
    },
    {
      "cell_type": "markdown",
      "metadata": {
        "id": "ijXSylaohFop",
        "colab_type": "text"
      },
      "source": [
        "**Initial Alexnet Architecture:**\n",
        "\n",
        "AlexNet(\n",
        "  (classifier): Sequential(\n",
        "    \n",
        "    (0): Dropout(p=0.5, inplace=False)\n",
        "    (1): Linear(in_features=9216, out_features=4096, bias=True)\n",
        "    (2): ReLU(inplace=True)\n",
        "    (3): Dropout(p=0.5, inplace=False)\n",
        "    (4): Linear(in_features=4096, out_features=4096, bias=True)\n",
        "    (5): ReLU(inplace=True)\n",
        "    (6): Linear(in_features=4096, out_features=1000, bias=True)\n",
        "  )\n",
        ")\n",
        "1. Replaced the LAst Layer with New Layer with Out features=16 as we have to classify the images in to 16 classes only not 1000. And achieved Accuracy = 84%\n",
        "\n",
        "2. From question first, accuracy got improved by 10 percent using Batch Normalization. Considering that point I have inserted a Batch Norm Layer before last layer as second last layer. And achieved accuracy around 85%.\n",
        "\n",
        "**New Alexnet Architecture:**\n",
        "AlexNet(classifier): Sequential(\n",
        "\n",
        "    (0): Dropout(p=0.5, inplace=False)\n",
        "    (1): Linear(in_features=9216, out_features=4096, bias=True)\n",
        "    (2): ReLU(inplace=True)\n",
        "    (3): Dropout(p=0.5, inplace=False)\n",
        "    (4): Linear(in_features=4096, out_features=4096, bias=True)\n",
        "    (5): ReLU(inplace=True)\n",
        "    (6): BatchNorm1d(4096, eps=1e-05, momentum=0.1, affine=True, track_running_stats=True)\n",
        "    (7): Linear(in_features=4096, out_features=16, bias=True)\n",
        "  )\n",
        ")"
      ]
    },
    {
      "cell_type": "markdown",
      "metadata": {
        "id": "KnAH3xjHi3cV",
        "colab_type": "text"
      },
      "source": [
        "## **Strategy A**"
      ]
    },
    {
      "cell_type": "code",
      "metadata": {
        "id": "arGFWtuonm_L",
        "colab_type": "code",
        "colab": {
          "base_uri": "https://localhost:8080/",
          "height": 436
        },
        "outputId": "5790a09a-23df-4805-f2d4-f26625b53fd1"
      },
      "source": [
        "alexnetA = torchvision.models.alexnet(pretrained = True)\n",
        "alexnetA.classifier = nn.Sequential(*list(alexnetA.classifier.children())[:-2])\n",
        "alexnetA"
      ],
      "execution_count": 38,
      "outputs": [
        {
          "output_type": "execute_result",
          "data": {
            "text/plain": [
              "AlexNet(\n",
              "  (features): Sequential(\n",
              "    (0): Conv2d(3, 64, kernel_size=(11, 11), stride=(4, 4), padding=(2, 2))\n",
              "    (1): ReLU(inplace=True)\n",
              "    (2): MaxPool2d(kernel_size=3, stride=2, padding=0, dilation=1, ceil_mode=False)\n",
              "    (3): Conv2d(64, 192, kernel_size=(5, 5), stride=(1, 1), padding=(2, 2))\n",
              "    (4): ReLU(inplace=True)\n",
              "    (5): MaxPool2d(kernel_size=3, stride=2, padding=0, dilation=1, ceil_mode=False)\n",
              "    (6): Conv2d(192, 384, kernel_size=(3, 3), stride=(1, 1), padding=(1, 1))\n",
              "    (7): ReLU(inplace=True)\n",
              "    (8): Conv2d(384, 256, kernel_size=(3, 3), stride=(1, 1), padding=(1, 1))\n",
              "    (9): ReLU(inplace=True)\n",
              "    (10): Conv2d(256, 256, kernel_size=(3, 3), stride=(1, 1), padding=(1, 1))\n",
              "    (11): ReLU(inplace=True)\n",
              "    (12): MaxPool2d(kernel_size=3, stride=2, padding=0, dilation=1, ceil_mode=False)\n",
              "  )\n",
              "  (avgpool): AdaptiveAvgPool2d(output_size=(6, 6))\n",
              "  (classifier): Sequential(\n",
              "    (0): Dropout(p=0.5, inplace=False)\n",
              "    (1): Linear(in_features=9216, out_features=4096, bias=True)\n",
              "    (2): ReLU(inplace=True)\n",
              "    (3): Dropout(p=0.5, inplace=False)\n",
              "    (4): Linear(in_features=4096, out_features=4096, bias=True)\n",
              "  )\n",
              ")"
            ]
          },
          "metadata": {
            "tags": []
          },
          "execution_count": 38
        }
      ]
    },
    {
      "cell_type": "code",
      "metadata": {
        "id": "IjFvlMBUhDg9",
        "colab_type": "code",
        "colab": {
          "base_uri": "https://localhost:8080/",
          "height": 386
        },
        "outputId": "c9486046-1d93-492f-ce6a-b790483766f0"
      },
      "source": [
        "import torch.optim as optim\n",
        "import time\n",
        "from sklearn.svm import LinearSVC\n",
        "svm = LinearSVC(max_iter=2000)\n",
        "alexnetA.cuda()\n",
        "criterion5 = nn.CrossEntropyLoss()\n",
        "optimizer5 = optim.SGD(alexnetA.parameters(), lr=0.001, momentum=0.9)\n",
        "\n",
        "correct = 0\n",
        "total = 0\n",
        "start_time = time.time()\n",
        "\n",
        "for epoch in range(20):  # loop over the dataset multiple times\n",
        "\n",
        "    running_loss = 0.0\n",
        "    for i, data in enumerate(trainloader_large, 0):\n",
        "        # get the inputs; data is a list of [inputs, labels]\n",
        "        inputs, labels = data\n",
        "        inputs = inputs.cuda()\n",
        "        labels = labels.cuda()\n",
        "        # zero the parameter gradients\n",
        "        optimizer5.zero_grad()\n",
        "        inputs = inputs.float()\n",
        "        # forward + backward + optimize\n",
        "        #features=features.cuda()\n",
        "        outputs = alexnetA(inputs)\n",
        "        features=outputs.cpu()\n",
        "        features= features.detach().numpy()\n",
        "        #print(features.shape)\n",
        "        features = features[:,0:200]\n",
        "        labels2= labels.cpu()\n",
        "        labels2= labels2.detach().numpy()\n",
        "        svm.fit(features,labels2)\n",
        "        loss = criterion5(outputs, labels)\n",
        "        loss.backward()\n",
        "        optimizer5.step()\n",
        "        \n",
        "        #step+=1\n",
        "        _, predicted = torch.max(outputs.data, 1)\n",
        "        total += labels.size(0)\n",
        "        correct += (predicted == labels).sum().item()\n",
        "\n",
        "        # print statistics\n",
        "        running_loss += loss.item()\n",
        "        if i % 48 == 0:    # print every 48 mini-batches\n",
        "            print('[%d, %5d] loss: %.3f' %\n",
        "                  (epoch + 1, i + 50, running_loss / 48))\n",
        "            running_loss = 0.0\n",
        "            #print('Accuracy: ',correct/total * 100)\n",
        "        \n",
        "\n",
        "print('Finished Training')\n",
        "print(\" Time Consumption in Training: %s seconds \" % (time.time() - start_time))"
      ],
      "execution_count": 39,
      "outputs": [
        {
          "output_type": "stream",
          "text": [
            "[1,    50] loss: 0.313\n",
            "[2,    50] loss: 0.023\n",
            "[3,    50] loss: 0.015\n",
            "[4,    50] loss: 0.012\n",
            "[5,    50] loss: 0.013\n",
            "[6,    50] loss: 0.009\n",
            "[7,    50] loss: 0.008\n",
            "[8,    50] loss: 0.006\n",
            "[9,    50] loss: 0.007\n",
            "[10,    50] loss: 0.005\n",
            "[11,    50] loss: 0.005\n",
            "[12,    50] loss: 0.003\n",
            "[13,    50] loss: 0.003\n",
            "[14,    50] loss: 0.004\n",
            "[15,    50] loss: 0.003\n",
            "[16,    50] loss: 0.003\n",
            "[17,    50] loss: 0.002\n",
            "[18,    50] loss: 0.003\n",
            "[19,    50] loss: 0.002\n",
            "[20,    50] loss: 0.002\n",
            "Finished Training\n",
            " Time Consumption in Training: 67.062326669693 seconds \n"
          ],
          "name": "stdout"
        }
      ]
    },
    {
      "cell_type": "code",
      "metadata": {
        "id": "s4L469gc01l1",
        "colab_type": "code",
        "colab": {
          "base_uri": "https://localhost:8080/",
          "height": 50
        },
        "outputId": "93de1258-4563-4065-f6b6-7a5418347b2f"
      },
      "source": [
        "# ==========================================\n",
        "#            Evaluating Network\n",
        "# ==========================================\n",
        "start_time = time.time()\n",
        "\n",
        "correct = 0\n",
        "total = 0\n",
        "alexnetA.eval()  #Setting Evaluating Mode\n",
        "with torch.no_grad():\n",
        "    for data in testloader_large:\n",
        "        images, labels = data\n",
        "        images = images.cuda()\n",
        "        labels = labels.cuda()\n",
        "        images = images.float()\n",
        "        outputs = alexnetA(images)\n",
        "        features2=outputs.cpu()\n",
        "        features2= features2.detach().numpy()\n",
        "        features2= features2[:,0:200]\n",
        "        \n",
        "        predicted = svm.predict(features2)\n",
        "        #_, predicted = torch.max(outputs, 1)\n",
        "        truelb=labels.cpu()\n",
        "        truelb= truelb.detach().numpy()\n",
        "        total += labels.size(0)\n",
        "        correct += (predicted == truelb).sum().item()\n",
        "\n",
        "print('Accuracy of the network on the 400 test images: %d %%' % (100 * correct / total))\n",
        "print(\" Time Consumption in Testing: %s seconds \" % (time.time() - start_time))"
      ],
      "execution_count": 40,
      "outputs": [
        {
          "output_type": "stream",
          "text": [
            "Accuracy of the network on the 400 test images: 72 %\n",
            " Time Consumption in Testing: 0.19536113739013672 seconds \n"
          ],
          "name": "stdout"
        }
      ]
    },
    {
      "cell_type": "markdown",
      "metadata": {
        "id": "7sszAAbN8mro",
        "colab_type": "text"
      },
      "source": [
        "### **VGG Network**"
      ]
    },
    {
      "cell_type": "code",
      "metadata": {
        "id": "-m66pcUS8lx7",
        "colab_type": "code",
        "colab": {}
      },
      "source": [
        "vgg = torchvision.models.vgg16(pretrained = True)"
      ],
      "execution_count": 0,
      "outputs": []
    },
    {
      "cell_type": "code",
      "metadata": {
        "id": "coAsXgfo96J2",
        "colab_type": "code",
        "colab": {
          "base_uri": "https://localhost:8080/",
          "height": 772
        },
        "outputId": "a809b8ba-59bc-4acb-e033-a1f74aeddbab"
      },
      "source": [
        "vgg"
      ],
      "execution_count": 32,
      "outputs": [
        {
          "output_type": "execute_result",
          "data": {
            "text/plain": [
              "VGG(\n",
              "  (features): Sequential(\n",
              "    (0): Conv2d(3, 64, kernel_size=(3, 3), stride=(1, 1), padding=(1, 1))\n",
              "    (1): ReLU(inplace=True)\n",
              "    (2): Conv2d(64, 64, kernel_size=(3, 3), stride=(1, 1), padding=(1, 1))\n",
              "    (3): ReLU(inplace=True)\n",
              "    (4): MaxPool2d(kernel_size=2, stride=2, padding=0, dilation=1, ceil_mode=False)\n",
              "    (5): Conv2d(64, 128, kernel_size=(3, 3), stride=(1, 1), padding=(1, 1))\n",
              "    (6): ReLU(inplace=True)\n",
              "    (7): Conv2d(128, 128, kernel_size=(3, 3), stride=(1, 1), padding=(1, 1))\n",
              "    (8): ReLU(inplace=True)\n",
              "    (9): MaxPool2d(kernel_size=2, stride=2, padding=0, dilation=1, ceil_mode=False)\n",
              "    (10): Conv2d(128, 256, kernel_size=(3, 3), stride=(1, 1), padding=(1, 1))\n",
              "    (11): ReLU(inplace=True)\n",
              "    (12): Conv2d(256, 256, kernel_size=(3, 3), stride=(1, 1), padding=(1, 1))\n",
              "    (13): ReLU(inplace=True)\n",
              "    (14): Conv2d(256, 256, kernel_size=(3, 3), stride=(1, 1), padding=(1, 1))\n",
              "    (15): ReLU(inplace=True)\n",
              "    (16): MaxPool2d(kernel_size=2, stride=2, padding=0, dilation=1, ceil_mode=False)\n",
              "    (17): Conv2d(256, 512, kernel_size=(3, 3), stride=(1, 1), padding=(1, 1))\n",
              "    (18): ReLU(inplace=True)\n",
              "    (19): Conv2d(512, 512, kernel_size=(3, 3), stride=(1, 1), padding=(1, 1))\n",
              "    (20): ReLU(inplace=True)\n",
              "    (21): Conv2d(512, 512, kernel_size=(3, 3), stride=(1, 1), padding=(1, 1))\n",
              "    (22): ReLU(inplace=True)\n",
              "    (23): MaxPool2d(kernel_size=2, stride=2, padding=0, dilation=1, ceil_mode=False)\n",
              "    (24): Conv2d(512, 512, kernel_size=(3, 3), stride=(1, 1), padding=(1, 1))\n",
              "    (25): ReLU(inplace=True)\n",
              "    (26): Conv2d(512, 512, kernel_size=(3, 3), stride=(1, 1), padding=(1, 1))\n",
              "    (27): ReLU(inplace=True)\n",
              "    (28): Conv2d(512, 512, kernel_size=(3, 3), stride=(1, 1), padding=(1, 1))\n",
              "    (29): ReLU(inplace=True)\n",
              "    (30): MaxPool2d(kernel_size=2, stride=2, padding=0, dilation=1, ceil_mode=False)\n",
              "  )\n",
              "  (avgpool): AdaptiveAvgPool2d(output_size=(7, 7))\n",
              "  (classifier): Sequential(\n",
              "    (0): Linear(in_features=25088, out_features=4096, bias=True)\n",
              "    (1): ReLU(inplace=True)\n",
              "    (2): Dropout(p=0.5, inplace=False)\n",
              "    (3): Linear(in_features=4096, out_features=4096, bias=True)\n",
              "    (4): ReLU(inplace=True)\n",
              "    (5): Dropout(p=0.5, inplace=False)\n",
              "    (6): Linear(in_features=4096, out_features=1000, bias=True)\n",
              "  )\n",
              ")"
            ]
          },
          "metadata": {
            "tags": []
          },
          "execution_count": 32
        }
      ]
    },
    {
      "cell_type": "code",
      "metadata": {
        "id": "Wduc1q7r9CdV",
        "colab_type": "code",
        "colab": {
          "base_uri": "https://localhost:8080/",
          "height": 789
        },
        "outputId": "04d0696c-1535-42ff-a96b-b8f63c954983"
      },
      "source": [
        "vgg.classifier._modules['6'] = nn.BatchNorm1d(64 * 8 * 8)\n",
        "vgg.classifier._modules['7'] = nn.Linear(4096, 16)\n",
        "vgg.cuda()"
      ],
      "execution_count": 33,
      "outputs": [
        {
          "output_type": "execute_result",
          "data": {
            "text/plain": [
              "VGG(\n",
              "  (features): Sequential(\n",
              "    (0): Conv2d(3, 64, kernel_size=(3, 3), stride=(1, 1), padding=(1, 1))\n",
              "    (1): ReLU(inplace=True)\n",
              "    (2): Conv2d(64, 64, kernel_size=(3, 3), stride=(1, 1), padding=(1, 1))\n",
              "    (3): ReLU(inplace=True)\n",
              "    (4): MaxPool2d(kernel_size=2, stride=2, padding=0, dilation=1, ceil_mode=False)\n",
              "    (5): Conv2d(64, 128, kernel_size=(3, 3), stride=(1, 1), padding=(1, 1))\n",
              "    (6): ReLU(inplace=True)\n",
              "    (7): Conv2d(128, 128, kernel_size=(3, 3), stride=(1, 1), padding=(1, 1))\n",
              "    (8): ReLU(inplace=True)\n",
              "    (9): MaxPool2d(kernel_size=2, stride=2, padding=0, dilation=1, ceil_mode=False)\n",
              "    (10): Conv2d(128, 256, kernel_size=(3, 3), stride=(1, 1), padding=(1, 1))\n",
              "    (11): ReLU(inplace=True)\n",
              "    (12): Conv2d(256, 256, kernel_size=(3, 3), stride=(1, 1), padding=(1, 1))\n",
              "    (13): ReLU(inplace=True)\n",
              "    (14): Conv2d(256, 256, kernel_size=(3, 3), stride=(1, 1), padding=(1, 1))\n",
              "    (15): ReLU(inplace=True)\n",
              "    (16): MaxPool2d(kernel_size=2, stride=2, padding=0, dilation=1, ceil_mode=False)\n",
              "    (17): Conv2d(256, 512, kernel_size=(3, 3), stride=(1, 1), padding=(1, 1))\n",
              "    (18): ReLU(inplace=True)\n",
              "    (19): Conv2d(512, 512, kernel_size=(3, 3), stride=(1, 1), padding=(1, 1))\n",
              "    (20): ReLU(inplace=True)\n",
              "    (21): Conv2d(512, 512, kernel_size=(3, 3), stride=(1, 1), padding=(1, 1))\n",
              "    (22): ReLU(inplace=True)\n",
              "    (23): MaxPool2d(kernel_size=2, stride=2, padding=0, dilation=1, ceil_mode=False)\n",
              "    (24): Conv2d(512, 512, kernel_size=(3, 3), stride=(1, 1), padding=(1, 1))\n",
              "    (25): ReLU(inplace=True)\n",
              "    (26): Conv2d(512, 512, kernel_size=(3, 3), stride=(1, 1), padding=(1, 1))\n",
              "    (27): ReLU(inplace=True)\n",
              "    (28): Conv2d(512, 512, kernel_size=(3, 3), stride=(1, 1), padding=(1, 1))\n",
              "    (29): ReLU(inplace=True)\n",
              "    (30): MaxPool2d(kernel_size=2, stride=2, padding=0, dilation=1, ceil_mode=False)\n",
              "  )\n",
              "  (avgpool): AdaptiveAvgPool2d(output_size=(7, 7))\n",
              "  (classifier): Sequential(\n",
              "    (0): Linear(in_features=25088, out_features=4096, bias=True)\n",
              "    (1): ReLU(inplace=True)\n",
              "    (2): Dropout(p=0.5, inplace=False)\n",
              "    (3): Linear(in_features=4096, out_features=4096, bias=True)\n",
              "    (4): ReLU(inplace=True)\n",
              "    (5): Dropout(p=0.5, inplace=False)\n",
              "    (6): BatchNorm1d(4096, eps=1e-05, momentum=0.1, affine=True, track_running_stats=True)\n",
              "    (7): Linear(in_features=4096, out_features=16, bias=True)\n",
              "  )\n",
              ")"
            ]
          },
          "metadata": {
            "tags": []
          },
          "execution_count": 33
        }
      ]
    },
    {
      "cell_type": "code",
      "metadata": {
        "id": "kJ428Mbu9HjC",
        "colab_type": "code",
        "colab": {
          "base_uri": "https://localhost:8080/",
          "height": 386
        },
        "outputId": "2df3e8d6-1785-434e-d403-f608808da2d0"
      },
      "source": [
        "#alexnet.linear = nn.Linear(1000, 16)\n",
        "#alexnet.cuda()\n",
        "import torch.optim as optim\n",
        "import time\n",
        "\n",
        "criterion4 = nn.CrossEntropyLoss()\n",
        "optimizer4 = optim.SGD(vgg.parameters(), lr=0.001, momentum=0.9)\n",
        "\n",
        "correct = 0\n",
        "total = 0\n",
        "start_time = time.time()\n",
        "\n",
        "for epoch in range(20):  # loop over the dataset multiple times\n",
        "\n",
        "    running_loss = 0.0\n",
        "    for i, data in enumerate(trainloader_large, 0):\n",
        "        # get the inputs; data is a list of [inputs, labels]\n",
        "        inputs, labels = data\n",
        "        inputs = inputs.cuda()\n",
        "        labels = labels.cuda()\n",
        "        # zero the parameter gradients\n",
        "        optimizer4.zero_grad()\n",
        "        inputs = inputs.float()\n",
        "        # forward + backward + optimize\n",
        "        outputs = vgg(inputs)\n",
        "        \n",
        "        loss = criterion4(outputs, labels)\n",
        "        loss.backward()\n",
        "        optimizer4.step()\n",
        "        #step+=1\n",
        "        _, predicted = torch.max(outputs.data, 1)\n",
        "        total += labels.size(0)\n",
        "        correct += (predicted == labels).sum().item()\n",
        "\n",
        "        # print statistics\n",
        "        running_loss += loss.item()\n",
        "        if i % 48 == 0:    # print every 48 mini-batches\n",
        "            print('[%d, %5d] loss: %.3f' %\n",
        "                  (epoch + 1, i + 50, running_loss / 48))\n",
        "            running_loss = 0.0\n",
        "            #print('Accuracy: ',correct/total * 100)\n",
        "print('Finished Training')\n",
        "print(\" Time Consumption in Training: %s seconds \" % (time.time() - start_time))\n"
      ],
      "execution_count": 34,
      "outputs": [
        {
          "output_type": "stream",
          "text": [
            "[1,    50] loss: 0.061\n",
            "[2,    50] loss: 0.014\n",
            "[3,    50] loss: 0.008\n",
            "[4,    50] loss: 0.004\n",
            "[5,    50] loss: 0.004\n",
            "[6,    50] loss: 0.002\n",
            "[7,    50] loss: 0.001\n",
            "[8,    50] loss: 0.002\n",
            "[9,    50] loss: 0.001\n",
            "[10,    50] loss: 0.001\n",
            "[11,    50] loss: 0.000\n",
            "[12,    50] loss: 0.000\n",
            "[13,    50] loss: 0.000\n",
            "[14,    50] loss: 0.000\n",
            "[15,    50] loss: 0.000\n",
            "[16,    50] loss: 0.001\n",
            "[17,    50] loss: 0.000\n",
            "[18,    50] loss: 0.000\n",
            "[19,    50] loss: 0.000\n",
            "[20,    50] loss: 0.000\n",
            "Finished Training\n",
            " Time Consumption in Training: 395.00362491607666 seconds \n"
          ],
          "name": "stdout"
        }
      ]
    },
    {
      "cell_type": "code",
      "metadata": {
        "id": "KULk1V5wCbwq",
        "colab_type": "code",
        "colab": {
          "base_uri": "https://localhost:8080/",
          "height": 33
        },
        "outputId": "d9b39687-10e3-4a7e-fa5c-cae89a4d75cc"
      },
      "source": [
        "gc.collect()"
      ],
      "execution_count": 35,
      "outputs": [
        {
          "output_type": "execute_result",
          "data": {
            "text/plain": [
              "0"
            ]
          },
          "metadata": {
            "tags": []
          },
          "execution_count": 35
        }
      ]
    },
    {
      "cell_type": "code",
      "metadata": {
        "id": "fpS_H5jq9Loh",
        "colab_type": "code",
        "colab": {
          "base_uri": "https://localhost:8080/",
          "height": 50
        },
        "outputId": "92bd11b3-32ae-4a18-a696-7dcd289aab9a"
      },
      "source": [
        "# ==========================================\n",
        "#            Evaluating Network\n",
        "# ==========================================\n",
        "start_time = time.time()\n",
        "\n",
        "correct = 0\n",
        "total = 0\n",
        "vgg.eval()  #Setting Evaluating Mode\n",
        "with torch.no_grad():\n",
        "    for data in testloader_large:\n",
        "        images, labels = data\n",
        "        images = images.cuda()\n",
        "        labels = labels.cuda()\n",
        "        images = images.float()\n",
        "        outputs = vgg(images)\n",
        "        _, predicted = torch.max(outputs.data, 1)\n",
        "        total += labels.size(0)\n",
        "        correct += (predicted == labels).sum().item()\n",
        "\n",
        "print('Accuracy of the network on the 400 test images: %d %%' % (100 * correct / total))\n",
        "print(\" Time Consumption in Testing: %s seconds \" % (time.time() - start_time))\n"
      ],
      "execution_count": 37,
      "outputs": [
        {
          "output_type": "stream",
          "text": [
            "Accuracy of the network on the 400 test images: 90 %\n",
            " Time Consumption in Testing: 1.198232650756836 seconds \n"
          ],
          "name": "stdout"
        }
      ]
    },
    {
      "cell_type": "markdown",
      "metadata": {
        "id": "H0mERwOcA8rH",
        "colab_type": "text"
      },
      "source": [
        "VGG Network is slower to train as compare to ALexnet because it contains more number of layers or we can say it is deeper than Alexnet. And as the number of filters get doubles after each pooling for VGG Network, it helps in capturing more number of features from the images. Also, It contains several drop out layers which helps it in better Network Regularization.\n",
        "\n",
        "**Tuning**: I have replaced last layer with 16 out-featured Linear Layer and inserted a Batch Normalization layer before that.\n",
        "\n",
        "**Accuracy**: Improved by 5-6% i.e. 90% as compare to Al.exNet"
      ]
    },
    {
      "cell_type": "code",
      "metadata": {
        "id": "ucVvBvzKAKjB",
        "colab_type": "code",
        "colab": {}
      },
      "source": [
        ""
      ],
      "execution_count": 0,
      "outputs": []
    },
    {
      "cell_type": "markdown",
      "metadata": {
        "id": "5UGefIYpYYNF",
        "colab_type": "text"
      },
      "source": [
        "## Submission guidelines\n",
        "---\n",
        "Extract the downloaded .zip file to a folder of your preference. The input and output paths are predefined and **DO NOT** change them, (we assume that 'Surname_Givenname_SBUID_hw4' is your working directory, and all the paths are relative to this directory).  The image read and write functions are already written for you. All you need to do is to fill in the blanks as indicated to generate proper outputs. **DO NOT** zip and upload the dataset on blackboard due to size limit.\n",
        "\n",
        "When submitting your .zip file through blackboard, please\n",
        "-- name your .zip file as **Surname_Givenname_SBUID_hw*.zip**.\n",
        "\n",
        "This zip file should include:\n",
        "```\n",
        "Surname_Givenname_SBUID_hw*\n",
        "        |---Surname_Givenname_SBUID_hw*.ipynb\n",
        "        |---Surname_Givenname_SBUID_hw*.py\n",
        "        |---Surname_Givenname_SBUID_hw*.pdf\n",
        "```\n",
        "where Surname_Givenname_SBUID_hw*.py is the Python code of Surname_Givenname_SBUID_hw*.ipynb, which can be dowloaded by File->Download .py.\n",
        "\n",
        "For instance, student Michael Jordan should submit a zip file named \"Jordan_Michael_111134567_hw4.zip\" for homework4 in this structure:\n",
        "```\n",
        "Jordan_Michael_111134567_hw4\n",
        "        |---Jordan_Michael_111134567_hw4.ipynb\n",
        "        |---Jordan_Michael_111134567_hw4.py\n",
        "        |---Jordan_Michael_111134567_hw4.pdf\n",
        "```\n",
        "\n",
        "The **Surname_Givenname_SBUID_hw*.pdf** should include a **google shared link** and **Surname_Givenname_SBUID_Pred*.pdf** should be your test set prediction file in the specified format. To generate the **google shared link**, first create a folder named **Surname_Givenname_SBUID_hw*** in your Google Drive with your Stony Brook account. The structure of the files in the folder should be exactly the same as the one you downloaded. If you alter the folder structures, the grading of your homework will be significantly delayed and possibly penalized.\n",
        "\n",
        "Then right click this folder, click ***Get shareable link***, in the People textfield, enter two TA's emails: ***bo.cao.1@stonybrook.edu*** and ***sayontan.ghosh@stonybrook.edu***. Make sure that TAs who have the link **can edit**, ***not just*** **can view**, and also **uncheck** the **Notify people** box.\n",
        "\n",
        "Colab has a good feature of version control, you should take advantage of this to save your work properly. However, the timestamp of the submission made in blackboard is the only one that we consider for grading. To be more specific, we will only grade the version of your code right before the timestamp of the submission made in blackboard. \n",
        "\n",
        "You are encouraged to post and answer questions on Piazza. Based on the amount of email that we have received in past years, there might be dealys in replying to personal emails. Please ask questions on Piazza and send emails only for personal issues.\n",
        "\n",
        "Be aware that your code will undergo plagiarism check both vertically and horizontally. Please do your own work.\n",
        "\n",
        "**Late submission penalty:** <br>\n",
        "There will be a 10% penalty per day for late submission. However, you will have 4 days throughout the whole semester to submit late without penalty. Note that the grace period is calculated by days instead of hours. If you submit the homework one minute after the deadline, one late day will be counted. Likewise, if you submit one minute after the deadline, the 10% penaly will be imposed if not using the grace period."
      ]
    },
    {
      "cell_type": "markdown",
      "metadata": {
        "id": "AYJOi8QYYYNG",
        "colab_type": "text"
      },
      "source": [
        "<!--Write your report here in markdown or html-->\n"
      ]
    }
  ]
}